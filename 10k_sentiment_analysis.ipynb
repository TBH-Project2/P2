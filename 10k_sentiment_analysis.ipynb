{
 "cells": [
  {
   "cell_type": "markdown",
   "metadata": {},
   "source": [
    "# 10k Sentiment Analysis Project:"
   ]
  },
  {
   "cell_type": "code",
   "execution_count": 6,
   "metadata": {},
   "outputs": [],
   "source": [
    "import os\n",
    "import re\n",
    "import time\n",
    "import pandas as pd\n",
    "from pandas import json_normalize\n",
    "from datetime import date\n",
    "from dateutil.relativedelta import relativedelta\n",
    "from dotenv import load_dotenv\n",
    "load_dotenv()\n",
    "import json\n",
    "import urllib.request\n",
    "import xml.etree.ElementTree as ET\n",
    "from collections import Counter\n",
    "\n",
    "# Import ML libraries:\n",
    "import numpy as np\n",
    "from nltk import ngrams\n",
    "from nltk.tokenize import word_tokenize\n",
    "from nltk.corpus import stopwords\n",
    "from nltk.stem import WordNetLemmatizer\n",
    "from nltk.sentiment.vader import SentimentIntensityAnalyzer\n",
    "analyzer = SentimentIntensityAnalyzer()\n",
    "# nltk.download('vader_lexicon')       # Uncomment this to download the latest package when you run for the first time\n",
    "\n",
    "# Import plotting libraries:\n",
    "import panel as pn\n",
    "import holoviews as hv\n",
    "import hvplot.pandas\n",
    "from holoviews import opts"
   ]
  },
  {
   "cell_type": "code",
   "execution_count": null,
   "metadata": {},
   "outputs": [],
   "source": [
    "# Create positions dictionary:\n",
    "positions_dict={'50863':'INTC'}\n",
    "\n",
    "# Create positions DataFrame:\n",
    "positions_df=pd.DataFrame(list(positions_dict.items()),columns=['CIK','Ticker']) "
   ]
  },
  {
   "cell_type": "markdown",
   "metadata": {},
   "source": [
    "# Configure AlphaVantage API"
   ]
  },
  {
   "cell_type": "code",
   "execution_count": null,
   "metadata": {},
   "outputs": [],
   "source": [
    "import alpha_vantage as av\n",
    "from alpha_vantage.alphavantage import AlphaVantage\n",
    "from alpha_vantage.timeseries import TimeSeries as ts"
   ]
  },
  {
   "cell_type": "code",
   "execution_count": null,
   "metadata": {},
   "outputs": [],
   "source": [
    "# Setup AV API object:\n",
    "av_api_key=os.getenv(\"av_api_key\")\n",
    "av_api='https://www.alphavantage.co/query?'\n",
    "\n",
    "# Create time-series query:\n",
    "ts_query=ts(key=av_api_key,output_format='pandas')\n",
    "\n",
    "# Set query input variables:\n",
    "interval='60min'\n",
    "period=60\n",
    "outputsize='full'\n",
    "series_type='close'"
   ]
  },
  {
   "cell_type": "code",
   "execution_count": null,
   "metadata": {},
   "outputs": [],
   "source": [
    "# Set sleep interval (for testing with more/less tickers):\n",
    "sleep=13"
   ]
  },
  {
   "cell_type": "code",
   "execution_count": null,
   "metadata": {},
   "outputs": [],
   "source": [
    "# Initiate tabs:\n",
    "tabs=pn.Tabs()\n",
    "\n",
    "# Loop through positions_df to pull stock price data into DataFrames:\n",
    "for x in positions_df:\n",
    "\n",
    "    # Get Time-Series\n",
    "    print(f\"Getting time-series for {x} ticker\")\n",
    "    data_ts,meta_data_ts=ts_query.get_intraday(symbol=x.ticker,\n",
    "                                               interval=interval,\n",
    "                                               outputsize=outputsize,\n",
    "    )\n",
    "    # Create time-series DataFrame\n",
    "    print(f\"Creating time-series DataFrame for {x} ticker\")\n",
    "    ts_df=pd.DataFrame.from_dict(data_ts)\n",
    "    ts_df=ts_df.drop(['5. volume','3. low','2. high','1. open'],axis=1)\n",
    "    ts_df=ts_df.rename(columns={'4. close':'Closing Price'})\n",
    "\n",
    "    # Output data for ticker to .csv file:   \n",
    "    print(f'Output data for {x} to a .csv file')\n",
    "    ts_df.to_csv(('../Data/'+f'{x}'+'_ts_data.csv'),index=True)\n",
    "\n",
    "\n",
    "# Loop to plot each tickers time-series data:\n",
    "    for t in x:  \n",
    "        # Create Time-Series plot:\n",
    "        print(f'Creating Time-Series plot for {x}')\n",
    "        ts_plot=ts_df.hvplot(kind='line',\n",
    "                                             ylabel='Values',\n",
    "                                             legend='top_left',\n",
    "                                             title=f'Time-Series Plot for {x} Symbol',\n",
    "                                             width=725,\n",
    "                                             height=350,\n",
    "        )\n",
    "        \n",
    "        # Create dashboard panel        \n",
    "        ts_col=pn.Column(ts_plot)\n",
    "        tab_row=pn.Row(ts_col)\n",
    "\n",
    "        # Save chart as .html file\n",
    "        tab_row.save(f'../{x}_TS_Plot.html')\n",
    "\n",
    "    # Put the panel in a tab\n",
    "    tabs.append((f'{x}',tab_row),)\n",
    "    \n",
    "    # Sleep\n",
    "    print(f\"Sleeping for {sleep} seconds before moving to next ticker...\")\n",
    "    time.sleep(sleep)   \n",
    "\n",
    "# Serve the dashboard\n",
    "print('Complete... Displaying dashboard in browser now')\n",
    "pn.serve(title='Portfolio',panels=tabs)"
   ]
  },
  {
   "cell_type": "markdown",
   "metadata": {},
   "source": [
    "# Configure SEC API"
   ]
  },
  {
   "cell_type": "code",
   "execution_count": 3,
   "metadata": {},
   "outputs": [],
   "source": [
    "# Retrieve API Key:\n",
    "sec_api_key = os.getenv(\"sec_api_key\")\n",
    "\n",
    "# Create API object:\n",
    "sec_api = \"https://api.sec-api.io?token=\" + sec_api_key"
   ]
  },
  {
   "cell_type": "code",
   "execution_count": null,
   "metadata": {},
   "outputs": [],
   "source": [
    "# Set today's date:\n",
    "today = date.today()\n",
    "\n",
    "# Subtract number of years from today's date to set start_date filter:\n",
    "start_date = today - relativedelta(years=5)"
   ]
  },
  {
   "cell_type": "code",
   "execution_count": null,
   "metadata": {},
   "outputs": [],
   "source": [
    "# Define API query filters: \n",
    "payload = {\n",
    "  \"query\": { \"query_string\": { \"query\": \"cik:50863\" + \" AND \" + \"filedAt:{\" + f\"{start_date}\" + \" TO \" + f\"{today}\" + \"} AND \" + \"formType:\\\"10-K\\\"\" } },\n",
    "  \"from\": \"0\",\n",
    "  \"size\": \"10\",\n",
    "  \"sort\": [{ \"filedAt\": { \"order\": \"desc\" } }]\n",
    "}\n",
    "\n",
    "# Format payload to JSON:\n",
    "jsondata = json.dumps(payload)\n",
    "jsondataasbytes = jsondata.encode('utf-8')\n",
    "\n",
    "# Instantiate the request: \n",
    "req = urllib.request.Request(sec_api)\n",
    "\n",
    "# Set the request header:\n",
    "req.add_header('Content-Type', 'application/json; charset=utf-8')\n",
    "\n",
    "# Set the request length:\n",
    "req.add_header('Content-Length', len(jsondataasbytes))\n",
    "\n",
    "# Send the request:\n",
    "response = urllib.request.urlopen(req, jsondataasbytes)\n",
    "\n",
    "# Read the response:\n",
    "res_body = response.read()\n",
    "\n",
    "# Transform the response to JSON:\n",
    "filings = json.loads(res_body.decode(\"utf-8\"))\n",
    "\n",
    "# Print JSON:\n",
    "print(filings)"
   ]
  },
  {
   "cell_type": "markdown",
   "metadata": {},
   "source": [
    "# Begin NLP Analysis on Retrieved Documents:"
   ]
  },
  {
   "cell_type": "code",
   "execution_count": null,
   "metadata": {},
   "outputs": [],
   "source": [
    "# Convert JSON to a DataFrame for modeling:\n",
    "filings = json_normalize(filings)\n",
    "filings"
   ]
  },
  {
   "cell_type": "code",
   "execution_count": null,
   "metadata": {},
   "outputs": [],
   "source": [
    "# Create the sentiment scores list:\n",
    "sentiments = []\n",
    "for filing in filings['filings']:\n",
    "    try:\n",
    "        text = filing['filings']\n",
    "#         date = filing['publishedAt'][:10]\n",
    "        sentiment = analyzer.polarity_scores(text)\n",
    "        compound = sentiment['compound']\n",
    "        pos = sentiment['pos']\n",
    "        neu = sentiment['neu']\n",
    "        neg = sentiment['neg']\n",
    "        sentiments.append({\n",
    "            'text':text,\n",
    "            'date':date,\n",
    "            'compound':compound,\n",
    "            'positive':pos,\n",
    "            'negative':neg,\n",
    "            'neutral':neu \n",
    "        })\n",
    "    except AttributeError:\n",
    "        pass\n",
    "    \n",
    "# Create a DataFrame from the sentiment scores list:\n",
    "sentiments_df = pd.DataFrame(sentiments)\n",
    "\n",
    "# Reorder the columns:\n",
    "columns = ['date','text','compound','positive','negative','neutral']\n",
    "sentiments_df = sentiments_df[columns]"
   ]
  },
  {
   "cell_type": "markdown",
   "metadata": {},
   "source": [
    "# Create Visuals To Display Sentiment Analysis Results:"
   ]
  },
  {
   "cell_type": "code",
   "execution_count": null,
   "metadata": {},
   "outputs": [],
   "source": []
  }
 ],
 "metadata": {
  "kernelspec": {
   "display_name": "Python [conda env:pyvizenv]",
   "language": "python",
   "name": "conda-env-pyvizenv-py"
  },
  "language_info": {
   "codemirror_mode": {
    "name": "ipython",
    "version": 3
   },
   "file_extension": ".py",
   "mimetype": "text/x-python",
   "name": "python",
   "nbconvert_exporter": "python",
   "pygments_lexer": "ipython3",
   "version": "3.8.5"
  }
 },
 "nbformat": 4,
 "nbformat_minor": 4
}
