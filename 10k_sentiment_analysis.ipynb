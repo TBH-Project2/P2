{
 "cells": [
  {
   "cell_type": "code",
   "execution_count": null,
   "metadata": {},
   "outputs": [],
   "source": [
    "import os\n",
    "import re\n",
    "import time\n",
    "import pandas as pd\n",
    "from pandas import json_normalize\n",
    "from datetime import date\n",
    "from dotenv import load_dotenv\n",
    "load_dotenv()\n",
    "import json\n",
    "import urllib.request\n",
    "import xml.etree.ElementTree as ET\n",
    "from collections import Counter\n",
    "import numpy as np\n",
    "from nltk import ngrams\n",
    "from nltk.tokenize import word_tokenize\n",
    "from nltk.corpus import stopwords\n",
    "from nltk.stem import WordNetLemmatizer\n",
    "from nltk.sentiment.vader import SentimentIntensityAnalyzer\n",
    "analyzer = SentimentIntensityAnalyzer()\n",
    "# nltk.download('vader_lexicon') # Uncomment this to download the latest package when you run for the first time\n",
    "import panel as pn\n",
    "import holoviews as hv\n",
    "import hvplot.pandas\n",
    "from holoviews import opts"
   ]
  },
  {
   "cell_type": "code",
   "execution_count": null,
   "metadata": {},
   "outputs": [],
   "source": [
    "# Set today's date:\n",
    "today = date.today()"
   ]
  },
  {
   "cell_type": "code",
   "execution_count": null,
   "metadata": {},
   "outputs": [],
   "source": [
    "# Retrieve API Key:\n",
    "TOKEN = os.getenv(\"sec_api_key\")\n",
    "\n",
    "# Create API object:\n",
    "API = \"https://api.sec-api.io?token=\" + TOKEN"
   ]
  },
  {
   "cell_type": "code",
   "execution_count": null,
   "metadata": {},
   "outputs": [],
   "source": [
    "# Define API query filters: \n",
    "payload = {\n",
    "  \"query\": { \"query_string\": { \"query\": \"cik:050863\" + \" AND \" + \"filedAt:{2016-01-01 TO \" + f\"{today}\" + \"} AND \" + \"formType:\\\"10-K\\\"\" } },\n",
    "#   \"from\": \"0\",\n",
    "  \"size\": \"10\",\n",
    "  \"sort\": [{ \"filedAt\": { \"order\": \"desc\" } }]\n",
    "}\n",
    "\n",
    "# Format payload to JSON:\n",
    "jsondata = json.dumps(payload)\n",
    "jsondataasbytes = jsondata.encode('utf-8')\n",
    "\n",
    "# Instantiate the request: \n",
    "req = urllib.request.Request(API)\n",
    "\n",
    "# Set the request header:\n",
    "req.add_header('Content-Type', 'application/json; charset=utf-8')\n",
    "\n",
    "# Set the request length:\n",
    "req.add_header('Content-Length', len(jsondataasbytes))\n",
    "\n",
    "# Send the request:\n",
    "response = urllib.request.urlopen(req, jsondataasbytes)\n",
    "\n",
    "# Read the response:\n",
    "res_body = response.read()\n",
    "\n",
    "# Transform the response to JSON:\n",
    "filings = json.loads(res_body.decode(\"utf-8\"))\n",
    "\n",
    "# Print JSON:\n",
    "print(filings)"
   ]
  },
  {
   "cell_type": "code",
   "execution_count": null,
   "metadata": {},
   "outputs": [],
   "source": [
    "# Convert JSON to a DataFrame for modeling:\n",
    "filings = json_normalize(filings)\n",
    "filings"
   ]
  },
  {
   "cell_type": "code",
   "execution_count": null,
   "metadata": {},
   "outputs": [],
   "source": [
    "# Create the sentiment scores list:\n",
    "sentiments = []\n",
    "for filing in filings['articles']:\n",
    "    try:\n",
    "        text = filing['content']\n",
    "        date = filing['publishedAt'][:10]\n",
    "        sentiment = analyzer.polarity_scores(text)\n",
    "        compound = sentiment['compound']\n",
    "        pos = sentiment['pos']\n",
    "        neu = sentiment['neu']\n",
    "        neg = sentiment['neg']\n",
    "        sentiments.append({\n",
    "            'text':text,\n",
    "            'date':date,\n",
    "            'compound':compound,\n",
    "            'positive':pos,\n",
    "            'negative':neg,\n",
    "            'neutral':neu \n",
    "        })\n",
    "    except AttributeError:\n",
    "        pass\n",
    "    \n",
    "# Create a DataFrame from the sentiment scores list:\n",
    "sentiments_df = pd.DataFrame(sentiments)\n",
    "\n",
    "# Reorder the columns:\n",
    "columns = ['date','text','compound','positive','negative','neutral']\n",
    "sentiments_df = sentiments_df[columns]"
   ]
  }
 ],
 "metadata": {
  "kernelspec": {
   "display_name": "Python [conda env:pyvizenv]",
   "language": "python",
   "name": "conda-env-pyvizenv-py"
  },
  "language_info": {
   "codemirror_mode": {
    "name": "ipython",
    "version": 3
   },
   "file_extension": ".py",
   "mimetype": "text/x-python",
   "name": "python",
   "nbconvert_exporter": "python",
   "pygments_lexer": "ipython3",
   "version": "3.8.5"
  }
 },
 "nbformat": 4,
 "nbformat_minor": 4
}
