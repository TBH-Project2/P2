{
 "cells": [
  {
   "cell_type": "code",
   "execution_count": 73,
   "metadata": {},
   "outputs": [],
   "source": [
    "import re\n",
    "import pandas as pd\n",
    "import numpy as np\n",
    "\n",
    "import nltk\n",
    "from nltk.util import ngrams\n",
    "from nltk.corpus import stopwords\n",
    "from nltk.stem import WordNetLemmatizer\n",
    "import nltk.translate.bleu_score as bleu\n",
    "from nltk.tokenize import sent_tokenize, word_tokenize\n",
    "from nltk.sentiment.vader import SentimentIntensityAnalyzer\n",
    "import nltk.translate.bleu_score as bleu\n",
    "# nltk.download('vader_lexicon') + Uncomment to download latest when running the first time\n",
    "\n",
    "from sklearn.metrics import accuracy_score\n",
    "from sklearn.metrics import roc_curve, auc\n",
    "from sklearn.metrics import confusion_matrix\n",
    "from sklearn.metrics import classification_report\n",
    "\n",
    "from sklearn.preprocessing import MinMaxScaler\n",
    "from sklearn.model_selection import train_test_split\n",
    "from sklearn.feature_extraction.text import CountVectorizer\n",
    "import tensorflow as tf\n",
    "from tensorflow.keras.models import Sequential\n",
    "from tensorflow.keras.layers import Embedding, LSTM, Dense\n",
    "from tensorflow.keras.preprocessing.text import Tokenizer\n",
    "\n",
    "%matplotlib inline"
   ]
  },
  {
   "cell_type": "code",
   "execution_count": 2,
   "metadata": {},
   "outputs": [],
   "source": [
    "analyzer = SentimentIntensityAnalyzer()\n",
    "wn = WordNetLemmatizer()\n",
    "sw = stopwords.words('english')\n",
    "\n",
    "# Extend stopwords to remove words not in corpus (if needed):\n",
    "sw.extend([\"I've\", \"We've\", \"I'll\", \"we've\"])"
   ]
  },
  {
   "cell_type": "code",
   "execution_count": 3,
   "metadata": {},
   "outputs": [],
   "source": [
    "Bob_Swan_CEO = \"\"\"Thanks, Pat and welcome back to Intel. It has been an honor to lead this incredible company and its talented team. It gives me great confidence in Intel's future knowing that I'll be passing the baton to Pat whose technical expertise, industry knowledge, execution track record, and commitment to our company are indisputable. Over the last two years, we made significant progress on our strategy to transform Intel into a multi-architecture XPU company, to move from silicon to solutions, and to contemporize our IDM model.\n",
    "I am proud of what we're able to achieve together as an Intel team in a relatively short period of time and echo Omar's words that Intel is in a strong strategic and financial position as we make this transition. As demonstrated by the results we announced today, demand for Intel's innovative technologies remains very strong and our investments to capitalize on future growth opportunities are paying off. Our Q4 results significantly exceeded our expectations capping off our fifth consecutive year of record revenue. We generated $20 billion in revenue and $1.52 in EPS, exceeding our guidance by $2.6 billion and $0.42 respectively.\n",
    "For the full year, we delivered $77.9 billion in revenue, up 8%, and $5.30 in EPS, up 9%. The client, data center, memory, and Mobileye businesses each set all-time revenue records. In Q4, we continued to advance our three strategic priorities: improving our execution to strengthen our core business, extending our reach to accelerate growth and redefine our position in the industry, and continuing to thoughtfully deploy capital to create value for our shareholders. Let me briefly discuss some of the highlights.\n",
    "Starting with improving our execution to strengthen our core business, let me start with an update on process technology and our product road map. Over the last few years, we've been following the IDM model to ensure we can deliver a predictable cadence of leadership products, preserve our IDM advantage, continue to invest in process technology leadership, and generate attractive returns on capital. This evolution includes a disaggregated design strategy, adoption of standard industry processes and common tools, flows, and methods, and deeper engagement with the industry ecosystem. In July, we highlighted a challenge with our 7-nanometer technology and starting a process to improve it while evaluating the best approach for our 2023 product lineup.\n",
    "Since that time, we have made tremendous progress on our 7-nanometer technology. When 7-nanometer was originally defined, the flow contained a particular sequence of steps that contributed to the defect issue we discussed in July. By rearchitecting these steps, we've been able to resolve the defects. As part of this work over the last six months, we also streamlined and simplified our 7-nanometer process architecture to better ensure we'll be able to deliver on our 2023 product road map.\n",
    "The inline data we have been collecting and our pipeline of proven yield development projects gives us confidence in our ability to deliver on our commitments going forward. At the same time, as Pat mentioned, we will continue to leverage the relationships we've developed over the years with our external foundry partners and believe they can play a larger role in our product road map given our disaggregated designs. Once Pat has had a chance to join, he'll further assess our analysis and drive the final manufacturing decision for our 2023 CPU products. Therefore, we'll communicate that decision soon after he takes over, but not today.\n",
    "Turning to products. We've qualified several new products in the fourth quarter, and we have an incredibly exciting lineup of CPUs for '21 and '22. Just a couple of weeks ago at CES, we introduced more than 50 processors resulting in more than 500 new designs for laptops and desktops coming to market in 2021. We are also seeing tremendous market response for PCs based on our new 11th Gen Intel Core Tiger Lake processors.\n",
    "Our PC customers now have more than 150 Tiger Lake-based systems in the market, well ahead of expectations. We believe we gained market share as PCs, CPU units grew an impressive 33% in the quarter. In a market where competitors are seeing supply challenges, this is a powerful example of the incredible value and scale of our factory network as we continue to deliver greater performance and cost efficiencies for our customers. Moving to the data center, we are now shipping our first 10-nanometer based Xeon Scalable CPU Ice Lake and will be ramping volume through the first quarter.\n",
    "Customers are going to see significant value in Ice Lake across cloud, network, and edge workloads with excellent performance improvement and innovations such as PCIe Express Gen 4, next-generation Intel Optane Persistent Memory, and security enhancements such as SGX. As we look ahead, we are excited about the capabilities we are bringing to customers with Alder Lake for mobile and desktop PCs and Sapphire Rapids for the data center. These products take advantage of our Enhanced SuperFin process technology in numerous architectural improvements and both are broadly sampling to customers. We will qualify Alder Lake desktop and notebook for production and begin our volume ramp in the second half of '21, and we expect production qualification of Sapphire Rapids at the end of 2021.\n",
    "In the expanded market opportunity in front of us, CPUs are critical, but multiple architectures or XPUs will be required to help customers optimize for specific workloads. We had a big XPU leap in the fourth quarter as we entered the discrete graphics market with Intel Iris Xe MAX graphics, Intel's first Xe-based discrete GPU. We are now shipping discrete graphics into thin and light notebooks from Acer, Asus, and Dell, and we introduced our first discrete GPU for the data center, which is already delivering great cloud gaming experiences for customers such as Tencent. We also announced the gold release of one API, our cross-industry open standards-based unified programming model that delivers a common developer experience across architectures.\n",
    "Second, we've made strong progress extending our reach to accelerate our growth. Over the past several years, we have been making investments that have positioned us to lead key technology inflections such as AI, 5G network transformation, and the intelligent autonomous edge. We infuse AI capabilities into everything we make from the cloud to PCs and we see tremendous growth prospects as we build our position in data center training to complement the strength of our Intel Xeon for inference. We made a significant step in AI this quarter when Amazon announced EC2 instances that will leverage up to eight of our Habana Gaudi AI training accelerators, and deliver up to 40% better price-performance than current GPU-based EC2 instances for machine learning workloads.\n",
    "We've also invested to drive networking workload convergence on Intel silicon. In 2020, we expanded our footprint into the Radio Access Network delivering Xeon SoCs, FPGAs, and custom solutions for 5G base station designs and reaching our goal of 40% share, two years ahead of our original target. Today, we are the leading network silicon provider winning in the wireless, enterprise, and cloud networks, and delivering $6 billion in revenue this year, up approximately 20% versus 2019. Finally, we have enviable assets to lead the explosive growth of intelligent and autonomous edge computing.\n",
    "Our IOTG and Mobileye businesses have combined annual revenue of $4 billion. Mobileye delivered a record fourth quarter and had an explosive start to 2021 with a number of exciting CES announcements. Third, we've maintained our discipline in thoughtfully allocating our shareholders' capital. Since 2015, we have grown revenue by more than $22 billion and more than doubled EPS.\n",
    "We've driven spending from 36% of revenue to 25% of revenue while investing in manufacturing capacity expansion, adding more than $1 billion of R&D targeted to higher growth initiatives, and focusing our product portfolio. As a result, we anticipate approximately $12 billion in proceeds from our NAND and McAfee exits over time. At the same time, we've been delivering substantial capital returns to shareholders, including $19.8 billion in 2020 alone through dividends and share buybacks, the latter of which included a $10 billion accelerated share repurchase announced in August. Building on this, today, we announced that we are increasing our annual dividend by $0.07, or 5% from $1.32 to $1.39 per share.\n",
    "Before I pass it to George for more details on our fourth-quarter results, I want to reiterate that I couldn't be more proud of the team at Intel and I cherish the time I've spent here. I look forward to watching Pat and the team's continued progress as they build on Intel's purpose to deliver breakthrough technology that enriches the lives of everyone on the planet. I also thank our investors and analysts on the line today for their continued support of Intel and for our valued engagements over the years.\n",
    "\"\"\""
   ]
  },
  {
   "cell_type": "code",
   "execution_count": 4,
   "metadata": {},
   "outputs": [],
   "source": [
    "# George_Davis_CFO = \"\"\"Thanks, Bob, and good afternoon everyone. Q4 marked a much stronger than expected finish to a record year. Both Mobileye and our PC-centric segment achieved record quarters. Q4 revenue was $20 billion, exceeding our guidance by $2.6 billion.\n",
    "# The revenue beat was broad-based led by stronger than expected notebook and cloud demand, along with contributions from desktop and enterprise and government. Datacenter related demand also led to stronger revenues in NAND. The gross margin for the quarter was 58.4%, exceeding the guide by 3 points due to flow through on higher revenue, and the benefit of Ice Lake server achieving production qualification prior to year-end. Q4 EPS was $1.52, $0.42 above our guide due to strong operational performance, and further boosted by gains from our ICAP portfolio.\n",
    "# Excluding a one-time tax adjustment, about two-thirds of our EPS beat was operational and one-third was below the line. For full-year 2020, we achieved record revenue of $77.9 billion, $4.4 billion higher than our January guide, which reflects a one-year acceleration relative to our 2019 Investor Day target. EPS was $5.30, up to $0.43 year over year, and $0.30 higher than our January guide. We generated $21.1 billion of free cash flow, up 25% year on year, and returned 94% of free cash flow to shareholders.\n",
    "# In total, we have repurchased approximately $17.6 billion shares as part of our planned $20 billion share repurchases announced in October 2019. We intend to complete the remaining $2.4 billion balance in Q1 '21. Moving briefly to the segment performance, our data center group generated record revenue in 2020, up 11% year over year. In Q4, DCG delivered revenue of $6.1 billion, down 16% year over year driven by enterprise and government weakness, and cloud digestion albeit lower than expected.\n",
    "# As a reminder, Q4 '19 was tough to compare with an all-time record for revenue with strength across all segments. DCGs operating margin in Q4 was down $1.4 billion years on year on lower revenue and increased investment. Our other data-centric businesses were up 1% year over year in 2020. In Q4, these businesses were down 5% year over year, driven largely by COVID-related demand impacts, partially offset by Mobileye growth.\n",
    "# IOTG revenue was down 16% year over year, due to COVID effects on demand. We expect a recovery in IOTG in 2021 and saw sequential growth of $100 million in the quarter on stabilizing industrial and video segments. Mobileye revenue was up 39% year over year in the quarter and the operating margin was $110 million, both records as IQSoC demand continues to be strong. NSG revenue was $1.2 billion, down 1% year on year on lower ASPs, partially offset by higher volume growth.\n",
    "# The operating margin was $76 million. PSG revenue was down 16% year over year, due mostly to 5G ASIC transitions at key accounts in the communications segment. CCG delivered a fifth straight year of record revenue, up 8% year over year. For the quarter, revenue was up 9% year over year, driven by record notebook unit volume.\n",
    "# ASPs were down 11%, due to increased volume in consumer entry and education segments. Adjacency revenue was down 31%, driven by modem ramp down and the divestiture of our Home Gateway Business. Operating income was $4.5 billion, up $420 million year over year on higher volume, partially offset by the ramp of 10-nanometer products. Moving to our outlook.\n",
    "# As Bob and Trey said, we believe it is important to give Pat time to assume his new role and dig into the business before announcing our full-year 2021 guidance and longer-term plans. However, I will provide our Q1 outlook, and then for the year discuss the high-level headwinds and tailwinds we expect. As a reminder, our outlook for 2021 excludes the NAND business. We expect Q1 revenue of $17.5 billion, down 12% year over year, or down 6% excluding NAND.\n",
    "# We see continuing strong demand for notebook PCs in Q1, up significantly year over year and expect desktop volumes to be down year over year. We anticipate further cloud digestion and continued COVID demand impacts on IOTG. The Q1 revenue estimate also includes approximately $500 million in corporate revenue that is one-time in nature and relates to a prepaid revenue arrangement. As we look at the remainder of the year, we see solid TAM growth in our core markets in 2021.\n",
    "# We expect PC demand to be more first-half weighted than normal seasonality and expect data-centric demand to be more concentrated in the second half as cloud digestion eases, and COVID impacted markets such as enterprise, data center, and IoT improve. We have strong product road maps but have anticipated a more competitive market and the continued mix shift to entry consumer PCs in our revenue plans this year. Finally, we will see lower modem revenue this year from our exit of that business. Gross margin in Q1 is expected to be approximately 58%, down year over year by approximately 4 points on mix related ASPs from lower Xeon SoC volume, and higher small core PC units partially offset by lower margin impact from divested businesses and some improvements from our DCG adjacencies.\n",
    "# Q1 operating margin is expected to be approximately 30%. We are forecasting EPS of approximately $1.10 per share, and a tax rate of 14.5%. With that, let me turn it back over to Trey, and get to your questions.\"\"\""
   ]
  },
  {
   "cell_type": "code",
   "execution_count": 5,
   "metadata": {},
   "outputs": [],
   "source": [
    "def clean_word(token, sw):\n",
    "    # Lemmatize nouns and verbs:\n",
    "    clean_token = wn.lemmatize(token, pos='n')\n",
    "    clean_token = wn.lemmatize(clean_token, pos='v')\n",
    "    # remove stopwords:\n",
    "    if ((clean_token not in sw) and (len(clean_token) >= 3)): \n",
    "        return clean_token"
   ]
  },
  {
   "cell_type": "code",
   "execution_count": 6,
   "metadata": {},
   "outputs": [],
   "source": [
    "def preprocess_text(text):\n",
    "    # Lowercase text:\n",
    "    text = text.lower()\n",
    "    # Remove digits with no letters before or after:\n",
    "    text = re.sub(r'\\b\\d+\\b', '', text)\n",
    "    # Tokenize sentences:\n",
    "    tokens = word_tokenize(text)\n",
    "    # Clean each word using clean_word function:\n",
    "    clean_tokens = [clean_word(w, sw) for w in tokens]\n",
    "    # Remove instances of None from the list of clean tokens:\n",
    "    clean_tokens = list(filter(None, clean_tokens))\n",
    "    # Return the list of clean tokens:\n",
    "    return ' '.join(clean_tokens)"
   ]
  },
  {
   "cell_type": "code",
   "execution_count": 7,
   "metadata": {},
   "outputs": [],
   "source": [
    "df_ceo = pd.DataFrame({\"sentences\":sent_tokenize(Bob_Swan_CEO)})\n",
    "df_ceo[\"preprocessed_sentences\"] = df_ceo.sentences.apply(preprocess_text)\n",
    "\n",
    "# df_cfo = pd.DataFrame({\"sentences\":sent_tokenize(George_Davis_CFO)})\n",
    "# df_cfo[\"preprocessed_sentences\"] = df_cfo.sentences.apply(preprocess_text)"
   ]
  },
  {
   "cell_type": "code",
   "execution_count": 8,
   "metadata": {},
   "outputs": [
    {
     "data": {
      "text/html": [
       "<div>\n",
       "<style scoped>\n",
       "    .dataframe tbody tr th:only-of-type {\n",
       "        vertical-align: middle;\n",
       "    }\n",
       "\n",
       "    .dataframe tbody tr th {\n",
       "        vertical-align: top;\n",
       "    }\n",
       "\n",
       "    .dataframe thead th {\n",
       "        text-align: right;\n",
       "    }\n",
       "</style>\n",
       "<table border=\"1\" class=\"dataframe\">\n",
       "  <thead>\n",
       "    <tr style=\"text-align: right;\">\n",
       "      <th></th>\n",
       "      <th>sentences</th>\n",
       "      <th>preprocessed_sentences</th>\n",
       "    </tr>\n",
       "  </thead>\n",
       "  <tbody>\n",
       "    <tr>\n",
       "      <th>0</th>\n",
       "      <td>Thanks, Pat and welcome back to Intel.</td>\n",
       "      <td>thank pat welcome back intel</td>\n",
       "    </tr>\n",
       "    <tr>\n",
       "      <th>1</th>\n",
       "      <td>It has been an honor to lead this incredible c...</td>\n",
       "      <td>honor lead incredible company talented team</td>\n",
       "    </tr>\n",
       "    <tr>\n",
       "      <th>2</th>\n",
       "      <td>It gives me great confidence in Intel's future...</td>\n",
       "      <td>give great confidence intel future know 'll pa...</td>\n",
       "    </tr>\n",
       "    <tr>\n",
       "      <th>3</th>\n",
       "      <td>Over the last two years, we made significant p...</td>\n",
       "      <td>last two year make significant progress strate...</td>\n",
       "    </tr>\n",
       "    <tr>\n",
       "      <th>4</th>\n",
       "      <td>I am proud of what we're able to achieve toget...</td>\n",
       "      <td>proud 're able achieve together intel team rel...</td>\n",
       "    </tr>\n",
       "    <tr>\n",
       "      <th>5</th>\n",
       "      <td>As demonstrated by the results we announced to...</td>\n",
       "      <td>demonstrate result announce today demand intel...</td>\n",
       "    </tr>\n",
       "    <tr>\n",
       "      <th>6</th>\n",
       "      <td>Our Q4 results significantly exceeded our expe...</td>\n",
       "      <td>result significantly exceed expectation cap fi...</td>\n",
       "    </tr>\n",
       "    <tr>\n",
       "      <th>7</th>\n",
       "      <td>We generated $20 billion in revenue and $1.52 ...</td>\n",
       "      <td>generate billion revenue eps exceed guidance b...</td>\n",
       "    </tr>\n",
       "    <tr>\n",
       "      <th>8</th>\n",
       "      <td>For the full year, we delivered $77.9 billion ...</td>\n",
       "      <td>full year deliver billion revenue eps</td>\n",
       "    </tr>\n",
       "    <tr>\n",
       "      <th>9</th>\n",
       "      <td>The client, data center, memory, and Mobileye ...</td>\n",
       "      <td>client data center memory mobileye business se...</td>\n",
       "    </tr>\n",
       "  </tbody>\n",
       "</table>\n",
       "</div>"
      ],
      "text/plain": [
       "                                           sentences  \\\n",
       "0             Thanks, Pat and welcome back to Intel.   \n",
       "1  It has been an honor to lead this incredible c...   \n",
       "2  It gives me great confidence in Intel's future...   \n",
       "3  Over the last two years, we made significant p...   \n",
       "4  I am proud of what we're able to achieve toget...   \n",
       "5  As demonstrated by the results we announced to...   \n",
       "6  Our Q4 results significantly exceeded our expe...   \n",
       "7  We generated $20 billion in revenue and $1.52 ...   \n",
       "8  For the full year, we delivered $77.9 billion ...   \n",
       "9  The client, data center, memory, and Mobileye ...   \n",
       "\n",
       "                              preprocessed_sentences  \n",
       "0                       thank pat welcome back intel  \n",
       "1        honor lead incredible company talented team  \n",
       "2  give great confidence intel future know 'll pa...  \n",
       "3  last two year make significant progress strate...  \n",
       "4  proud 're able achieve together intel team rel...  \n",
       "5  demonstrate result announce today demand intel...  \n",
       "6  result significantly exceed expectation cap fi...  \n",
       "7  generate billion revenue eps exceed guidance b...  \n",
       "8              full year deliver billion revenue eps  \n",
       "9  client data center memory mobileye business se...  "
      ]
     },
     "execution_count": 8,
     "metadata": {},
     "output_type": "execute_result"
    }
   ],
   "source": [
    "df_ceo.head(10)"
   ]
  },
  {
   "cell_type": "code",
   "execution_count": 9,
   "metadata": {},
   "outputs": [],
   "source": [
    "# df_cfo.head(10)"
   ]
  },
  {
   "cell_type": "markdown",
   "metadata": {},
   "source": [
    "### Assign polarity scores to unprocessed sentences"
   ]
  },
  {
   "cell_type": "code",
   "execution_count": 10,
   "metadata": {},
   "outputs": [
    {
     "data": {
      "text/html": [
       "<div>\n",
       "<style scoped>\n",
       "    .dataframe tbody tr th:only-of-type {\n",
       "        vertical-align: middle;\n",
       "    }\n",
       "\n",
       "    .dataframe tbody tr th {\n",
       "        vertical-align: top;\n",
       "    }\n",
       "\n",
       "    .dataframe thead th {\n",
       "        text-align: right;\n",
       "    }\n",
       "</style>\n",
       "<table border=\"1\" class=\"dataframe\">\n",
       "  <thead>\n",
       "    <tr style=\"text-align: right;\">\n",
       "      <th></th>\n",
       "      <th>sentences</th>\n",
       "      <th>compound</th>\n",
       "      <th>positive</th>\n",
       "      <th>negative</th>\n",
       "      <th>neutral</th>\n",
       "    </tr>\n",
       "  </thead>\n",
       "  <tbody>\n",
       "    <tr>\n",
       "      <th>0</th>\n",
       "      <td>Thanks, Pat and welcome back to Intel.</td>\n",
       "      <td>0.7096</td>\n",
       "      <td>0.541</td>\n",
       "      <td>0.000</td>\n",
       "      <td>0.459</td>\n",
       "    </tr>\n",
       "    <tr>\n",
       "      <th>1</th>\n",
       "      <td>It has been an honor to lead this incredible c...</td>\n",
       "      <td>0.7579</td>\n",
       "      <td>0.351</td>\n",
       "      <td>0.000</td>\n",
       "      <td>0.649</td>\n",
       "    </tr>\n",
       "    <tr>\n",
       "      <th>2</th>\n",
       "      <td>It gives me great confidence in Intel's future...</td>\n",
       "      <td>0.8750</td>\n",
       "      <td>0.256</td>\n",
       "      <td>0.000</td>\n",
       "      <td>0.744</td>\n",
       "    </tr>\n",
       "    <tr>\n",
       "      <th>3</th>\n",
       "      <td>Over the last two years, we made significant p...</td>\n",
       "      <td>0.6486</td>\n",
       "      <td>0.184</td>\n",
       "      <td>0.000</td>\n",
       "      <td>0.816</td>\n",
       "    </tr>\n",
       "    <tr>\n",
       "      <th>4</th>\n",
       "      <td>I am proud of what we're able to achieve toget...</td>\n",
       "      <td>0.7506</td>\n",
       "      <td>0.155</td>\n",
       "      <td>0.000</td>\n",
       "      <td>0.845</td>\n",
       "    </tr>\n",
       "    <tr>\n",
       "      <th>5</th>\n",
       "      <td>As demonstrated by the results we announced to...</td>\n",
       "      <td>0.8805</td>\n",
       "      <td>0.323</td>\n",
       "      <td>0.041</td>\n",
       "      <td>0.635</td>\n",
       "    </tr>\n",
       "    <tr>\n",
       "      <th>6</th>\n",
       "      <td>Our Q4 results significantly exceeded our expe...</td>\n",
       "      <td>0.0000</td>\n",
       "      <td>0.000</td>\n",
       "      <td>0.000</td>\n",
       "      <td>1.000</td>\n",
       "    </tr>\n",
       "    <tr>\n",
       "      <th>7</th>\n",
       "      <td>We generated $20 billion in revenue and $1.52 ...</td>\n",
       "      <td>0.3400</td>\n",
       "      <td>0.118</td>\n",
       "      <td>0.000</td>\n",
       "      <td>0.882</td>\n",
       "    </tr>\n",
       "    <tr>\n",
       "      <th>8</th>\n",
       "      <td>For the full year, we delivered $77.9 billion ...</td>\n",
       "      <td>0.0000</td>\n",
       "      <td>0.000</td>\n",
       "      <td>0.000</td>\n",
       "      <td>1.000</td>\n",
       "    </tr>\n",
       "    <tr>\n",
       "      <th>9</th>\n",
       "      <td>The client, data center, memory, and Mobileye ...</td>\n",
       "      <td>0.0000</td>\n",
       "      <td>0.000</td>\n",
       "      <td>0.000</td>\n",
       "      <td>1.000</td>\n",
       "    </tr>\n",
       "  </tbody>\n",
       "</table>\n",
       "</div>"
      ],
      "text/plain": [
       "                                           sentences  compound  positive  \\\n",
       "0             Thanks, Pat and welcome back to Intel.    0.7096     0.541   \n",
       "1  It has been an honor to lead this incredible c...    0.7579     0.351   \n",
       "2  It gives me great confidence in Intel's future...    0.8750     0.256   \n",
       "3  Over the last two years, we made significant p...    0.6486     0.184   \n",
       "4  I am proud of what we're able to achieve toget...    0.7506     0.155   \n",
       "5  As demonstrated by the results we announced to...    0.8805     0.323   \n",
       "6  Our Q4 results significantly exceeded our expe...    0.0000     0.000   \n",
       "7  We generated $20 billion in revenue and $1.52 ...    0.3400     0.118   \n",
       "8  For the full year, we delivered $77.9 billion ...    0.0000     0.000   \n",
       "9  The client, data center, memory, and Mobileye ...    0.0000     0.000   \n",
       "\n",
       "   negative  neutral  \n",
       "0     0.000    0.459  \n",
       "1     0.000    0.649  \n",
       "2     0.000    0.744  \n",
       "3     0.000    0.816  \n",
       "4     0.000    0.845  \n",
       "5     0.041    0.635  \n",
       "6     0.000    1.000  \n",
       "7     0.000    0.882  \n",
       "8     0.000    1.000  \n",
       "9     0.000    1.000  "
      ]
     },
     "execution_count": 10,
     "metadata": {},
     "output_type": "execute_result"
    }
   ],
   "source": [
    "# Initialize empty scores list:\n",
    "ceo_unprocessed_polarity_scores = []\n",
    "\n",
    "# Assign polarity scores:\n",
    "for sentence in df_ceo['sentences']:\n",
    "    try:\n",
    "        sentiment = analyzer.polarity_scores(sentence)\n",
    "        compound = sentiment['compound']\n",
    "        pos = sentiment['pos']\n",
    "        neu = sentiment['neu']\n",
    "        neg = sentiment['neg']\n",
    "        ceo_unprocessed_polarity_scores.append({\n",
    "            'sentences': sentence,\n",
    "            'compound': compound,\n",
    "            'positive': pos,\n",
    "            'negative': neg,\n",
    "            'neutral': neu\n",
    "        })\n",
    "    except AttributeError:\n",
    "        pass\n",
    "    \n",
    "# Create DataFrame:\n",
    "ceo_unprocessed_sentiments_df = pd.DataFrame(ceo_unprocessed_polarity_scores)\n",
    "\n",
    "# Display 10 rows:\n",
    "ceo_unprocessed_sentiments_df.head(10)"
   ]
  },
  {
   "cell_type": "code",
   "execution_count": 11,
   "metadata": {
    "jupyter": {
     "source_hidden": true
    }
   },
   "outputs": [],
   "source": [
    "# # Initialize empty scores list:\n",
    "# cfo_unprocessed_polarity_scores = []\n",
    "\n",
    "# # Assign polarity scores:\n",
    "# for sentence in df_cfo['sentences']:\n",
    "#     try:\n",
    "#         sentiment = analyzer.polarity_scores(sentence)\n",
    "#         compound = sentiment['compound']\n",
    "#         pos = sentiment['pos']\n",
    "#         neu = sentiment['neu']\n",
    "#         neg = sentiment['neg']\n",
    "#         cfo_unprocessed_polarity_scores.append({\n",
    "#             'sentences': sentence,\n",
    "#             'compound': compound,\n",
    "#             'positive': pos,\n",
    "#             'negative': neg,\n",
    "#             'neutral': neu\n",
    "#         })\n",
    "#     except AttributeError:\n",
    "#         pass\n",
    "    \n",
    "# # Create DataFrame:\n",
    "# cfo_unprocessed_sentiments_df = pd.DataFrame(cfo_unprocessed_polarity_scores)\n",
    "\n",
    "# # Display 10 rows:\n",
    "# cfo_unprocessed_sentiments_df.head(10)"
   ]
  },
  {
   "cell_type": "markdown",
   "metadata": {},
   "source": [
    "# Assign polarity scores to Preprocessed sentences"
   ]
  },
  {
   "cell_type": "code",
   "execution_count": 12,
   "metadata": {},
   "outputs": [
    {
     "data": {
      "text/html": [
       "<div>\n",
       "<style scoped>\n",
       "    .dataframe tbody tr th:only-of-type {\n",
       "        vertical-align: middle;\n",
       "    }\n",
       "\n",
       "    .dataframe tbody tr th {\n",
       "        vertical-align: top;\n",
       "    }\n",
       "\n",
       "    .dataframe thead th {\n",
       "        text-align: right;\n",
       "    }\n",
       "</style>\n",
       "<table border=\"1\" class=\"dataframe\">\n",
       "  <thead>\n",
       "    <tr style=\"text-align: right;\">\n",
       "      <th></th>\n",
       "      <th>preprocessed_sentences</th>\n",
       "      <th>compound</th>\n",
       "      <th>positive</th>\n",
       "      <th>negative</th>\n",
       "      <th>neutral</th>\n",
       "    </tr>\n",
       "  </thead>\n",
       "  <tbody>\n",
       "    <tr>\n",
       "      <th>0</th>\n",
       "      <td>thank pat welcome back intel</td>\n",
       "      <td>0.6705</td>\n",
       "      <td>0.647</td>\n",
       "      <td>0.000</td>\n",
       "      <td>0.353</td>\n",
       "    </tr>\n",
       "    <tr>\n",
       "      <th>1</th>\n",
       "      <td>honor lead incredible company talented team</td>\n",
       "      <td>0.7579</td>\n",
       "      <td>0.619</td>\n",
       "      <td>0.000</td>\n",
       "      <td>0.381</td>\n",
       "    </tr>\n",
       "    <tr>\n",
       "      <th>2</th>\n",
       "      <td>give great confidence intel future know 'll pa...</td>\n",
       "      <td>0.8750</td>\n",
       "      <td>0.357</td>\n",
       "      <td>0.000</td>\n",
       "      <td>0.643</td>\n",
       "    </tr>\n",
       "    <tr>\n",
       "      <th>3</th>\n",
       "      <td>last two year make significant progress strate...</td>\n",
       "      <td>0.7096</td>\n",
       "      <td>0.315</td>\n",
       "      <td>0.000</td>\n",
       "      <td>0.685</td>\n",
       "    </tr>\n",
       "    <tr>\n",
       "      <th>4</th>\n",
       "      <td>proud 're able achieve together intel team rel...</td>\n",
       "      <td>0.7506</td>\n",
       "      <td>0.252</td>\n",
       "      <td>0.000</td>\n",
       "      <td>0.748</td>\n",
       "    </tr>\n",
       "    <tr>\n",
       "      <th>5</th>\n",
       "      <td>demonstrate result announce today demand intel...</td>\n",
       "      <td>0.8658</td>\n",
       "      <td>0.473</td>\n",
       "      <td>0.118</td>\n",
       "      <td>0.408</td>\n",
       "    </tr>\n",
       "    <tr>\n",
       "      <th>6</th>\n",
       "      <td>result significantly exceed expectation cap fi...</td>\n",
       "      <td>0.0000</td>\n",
       "      <td>0.000</td>\n",
       "      <td>0.000</td>\n",
       "      <td>1.000</td>\n",
       "    </tr>\n",
       "    <tr>\n",
       "      <th>7</th>\n",
       "      <td>generate billion revenue eps exceed guidance b...</td>\n",
       "      <td>0.3400</td>\n",
       "      <td>0.255</td>\n",
       "      <td>0.000</td>\n",
       "      <td>0.745</td>\n",
       "    </tr>\n",
       "    <tr>\n",
       "      <th>8</th>\n",
       "      <td>full year deliver billion revenue eps</td>\n",
       "      <td>0.0000</td>\n",
       "      <td>0.000</td>\n",
       "      <td>0.000</td>\n",
       "      <td>1.000</td>\n",
       "    </tr>\n",
       "    <tr>\n",
       "      <th>9</th>\n",
       "      <td>client data center memory mobileye business se...</td>\n",
       "      <td>0.0000</td>\n",
       "      <td>0.000</td>\n",
       "      <td>0.000</td>\n",
       "      <td>1.000</td>\n",
       "    </tr>\n",
       "  </tbody>\n",
       "</table>\n",
       "</div>"
      ],
      "text/plain": [
       "                              preprocessed_sentences  compound  positive  \\\n",
       "0                       thank pat welcome back intel    0.6705     0.647   \n",
       "1        honor lead incredible company talented team    0.7579     0.619   \n",
       "2  give great confidence intel future know 'll pa...    0.8750     0.357   \n",
       "3  last two year make significant progress strate...    0.7096     0.315   \n",
       "4  proud 're able achieve together intel team rel...    0.7506     0.252   \n",
       "5  demonstrate result announce today demand intel...    0.8658     0.473   \n",
       "6  result significantly exceed expectation cap fi...    0.0000     0.000   \n",
       "7  generate billion revenue eps exceed guidance b...    0.3400     0.255   \n",
       "8              full year deliver billion revenue eps    0.0000     0.000   \n",
       "9  client data center memory mobileye business se...    0.0000     0.000   \n",
       "\n",
       "   negative  neutral  \n",
       "0     0.000    0.353  \n",
       "1     0.000    0.381  \n",
       "2     0.000    0.643  \n",
       "3     0.000    0.685  \n",
       "4     0.000    0.748  \n",
       "5     0.118    0.408  \n",
       "6     0.000    1.000  \n",
       "7     0.000    0.745  \n",
       "8     0.000    1.000  \n",
       "9     0.000    1.000  "
      ]
     },
     "execution_count": 12,
     "metadata": {},
     "output_type": "execute_result"
    }
   ],
   "source": [
    "# Initialize empty scores list:\n",
    "ceo_preprocessed_polarity_scores = []\n",
    "\n",
    "# Assign polarity scores:\n",
    "for sentence in df_ceo['preprocessed_sentences']:\n",
    "    try:\n",
    "        sentiment = analyzer.polarity_scores(sentence)\n",
    "        compound = sentiment['compound']\n",
    "        pos = sentiment['pos']\n",
    "        neu = sentiment['neu']\n",
    "        neg = sentiment['neg']\n",
    "        ceo_preprocessed_polarity_scores.append({\n",
    "            'preprocessed_sentences': sentence,\n",
    "            'compound': compound,\n",
    "            'positive': pos,\n",
    "            'negative': neg,\n",
    "            'neutral': neu\n",
    "        })\n",
    "    except AttributeError:\n",
    "        pass\n",
    "    \n",
    "# Create DataFrame:\n",
    "ceo_preprocessed_sentiments_df = pd.DataFrame(ceo_preprocessed_polarity_scores)\n",
    "\n",
    "# Display 10 rows:\n",
    "ceo_preprocessed_sentiments_df.head(10)"
   ]
  },
  {
   "cell_type": "code",
   "execution_count": 13,
   "metadata": {
    "jupyter": {
     "source_hidden": true
    }
   },
   "outputs": [],
   "source": [
    "# # Initialize empty scores list:\n",
    "# cfo_preprocessed_polarity_scores = []\n",
    "\n",
    "# # Assign polarity scores:\n",
    "# for sentence in df_cfo['preprocessed_sentences']:\n",
    "#     try:\n",
    "#         sentiment = analyzer.polarity_scores(sentence)\n",
    "#         compound = sentiment['compound']\n",
    "#         pos = sentiment['pos']\n",
    "#         neu = sentiment['neu']\n",
    "#         neg = sentiment['neg']\n",
    "#         cfo_preprocessed_polarity_scores.append({\n",
    "#             'preprocessed_sentences': sentence,\n",
    "#             'compound': compound,\n",
    "#             'positive': pos,\n",
    "#             'negative': neg,\n",
    "#             'neutral': neu\n",
    "#         })\n",
    "#     except AttributeError:\n",
    "#         pass\n",
    "    \n",
    "# # Create DataFrame:    \n",
    "# cfo_preprocessed_sentiments_df = pd.DataFrame(cfo_preprocessed_polarity_scores)\n",
    "\n",
    "# # Display 10 rows:\n",
    "# cfo_preprocessed_sentiments_df.head(10)"
   ]
  },
  {
   "cell_type": "markdown",
   "metadata": {},
   "source": [
    "### Assign Sentiment Score"
   ]
  },
  {
   "cell_type": "code",
   "execution_count": 14,
   "metadata": {
    "jupyter": {
     "source_hidden": true
    }
   },
   "outputs": [],
   "source": [
    "# # Create sentiment column with default value of 0:\n",
    "# ceo_preprocessed_sentiments_df['sentiment']=0\n",
    "\n",
    "# # Conditional loop to assign sentence sentiment value:\n",
    "# for index, row in ceo_preprocessed_sentiments_df.iterrows():\n",
    "#     pos = row[\"positive\"]\n",
    "#     neg = row['negative']\n",
    "#     neu = row[\"neutral\"]\n",
    "#     if (pos > neg) and (pos > neu):\n",
    "#         ceo_preprocessed_sentiments_df.at[index, 'sentiment'] = 1\n",
    "#     elif (neg > pos) and (neg > neu):\n",
    "#         ceo_preprocessed_sentiments_df.at[index, 'sentiment'] = 0\n",
    "#     else:\n",
    "#         ceo_preprocessed_sentiments_df.at[index, 'sentiment'] = 2\n",
    "\n",
    "# # Display 10 rows:\n",
    "# ceo_preprocessed_sentiments_df.head(10)"
   ]
  },
  {
   "cell_type": "code",
   "execution_count": 15,
   "metadata": {
    "jupyter": {
     "source_hidden": true
    }
   },
   "outputs": [],
   "source": [
    "# # Create sentiment column with default value of 0:\n",
    "# cfo_preprocessed_sentiments_df['sentiment']=0\n",
    "\n",
    "# # Conditional loop to assign sentence sentiment value:\n",
    "# for index, row in cfo_preprocessed_sentiments_df.iterrows():\n",
    "#     pos = row[\"positive\"]\n",
    "#     neg = row['negative']\n",
    "#     neu = row[\"neutral\"]\n",
    "#     if (pos > neg) and (pos > neu):\n",
    "#         cfo_preprocessed_sentiments_df.at[index, 'sentiment'] = 1\n",
    "#     elif (neg > pos) and (neg > neu):\n",
    "#         cfo_preprocessed_sentiments_df.at[index, 'sentiment'] = 0\n",
    "#     else:\n",
    "#         cfo_preprocessed_sentiments_df.at[index, 'sentiment'] = 2\n",
    "\n",
    "# # Display 10 rows:\n",
    "# cfo_preprocessed_sentiments_df.head(10)"
   ]
  },
  {
   "cell_type": "markdown",
   "metadata": {},
   "source": [
    "## Assign sentiment score based off of compound polarity score"
   ]
  },
  {
   "cell_type": "code",
   "execution_count": 16,
   "metadata": {},
   "outputs": [
    {
     "data": {
      "text/html": [
       "<div>\n",
       "<style scoped>\n",
       "    .dataframe tbody tr th:only-of-type {\n",
       "        vertical-align: middle;\n",
       "    }\n",
       "\n",
       "    .dataframe tbody tr th {\n",
       "        vertical-align: top;\n",
       "    }\n",
       "\n",
       "    .dataframe thead th {\n",
       "        text-align: right;\n",
       "    }\n",
       "</style>\n",
       "<table border=\"1\" class=\"dataframe\">\n",
       "  <thead>\n",
       "    <tr style=\"text-align: right;\">\n",
       "      <th></th>\n",
       "      <th>preprocessed_sentences</th>\n",
       "      <th>compound</th>\n",
       "      <th>positive</th>\n",
       "      <th>negative</th>\n",
       "      <th>neutral</th>\n",
       "      <th>sentiment</th>\n",
       "    </tr>\n",
       "  </thead>\n",
       "  <tbody>\n",
       "    <tr>\n",
       "      <th>0</th>\n",
       "      <td>thank pat welcome back intel</td>\n",
       "      <td>0.6705</td>\n",
       "      <td>0.647</td>\n",
       "      <td>0.000</td>\n",
       "      <td>0.353</td>\n",
       "      <td>1</td>\n",
       "    </tr>\n",
       "    <tr>\n",
       "      <th>1</th>\n",
       "      <td>honor lead incredible company talented team</td>\n",
       "      <td>0.7579</td>\n",
       "      <td>0.619</td>\n",
       "      <td>0.000</td>\n",
       "      <td>0.381</td>\n",
       "      <td>1</td>\n",
       "    </tr>\n",
       "    <tr>\n",
       "      <th>2</th>\n",
       "      <td>give great confidence intel future know 'll pa...</td>\n",
       "      <td>0.8750</td>\n",
       "      <td>0.357</td>\n",
       "      <td>0.000</td>\n",
       "      <td>0.643</td>\n",
       "      <td>1</td>\n",
       "    </tr>\n",
       "    <tr>\n",
       "      <th>3</th>\n",
       "      <td>last two year make significant progress strate...</td>\n",
       "      <td>0.7096</td>\n",
       "      <td>0.315</td>\n",
       "      <td>0.000</td>\n",
       "      <td>0.685</td>\n",
       "      <td>1</td>\n",
       "    </tr>\n",
       "    <tr>\n",
       "      <th>4</th>\n",
       "      <td>proud 're able achieve together intel team rel...</td>\n",
       "      <td>0.7506</td>\n",
       "      <td>0.252</td>\n",
       "      <td>0.000</td>\n",
       "      <td>0.748</td>\n",
       "      <td>1</td>\n",
       "    </tr>\n",
       "    <tr>\n",
       "      <th>5</th>\n",
       "      <td>demonstrate result announce today demand intel...</td>\n",
       "      <td>0.8658</td>\n",
       "      <td>0.473</td>\n",
       "      <td>0.118</td>\n",
       "      <td>0.408</td>\n",
       "      <td>1</td>\n",
       "    </tr>\n",
       "    <tr>\n",
       "      <th>6</th>\n",
       "      <td>result significantly exceed expectation cap fi...</td>\n",
       "      <td>0.0000</td>\n",
       "      <td>0.000</td>\n",
       "      <td>0.000</td>\n",
       "      <td>1.000</td>\n",
       "      <td>2</td>\n",
       "    </tr>\n",
       "    <tr>\n",
       "      <th>7</th>\n",
       "      <td>generate billion revenue eps exceed guidance b...</td>\n",
       "      <td>0.3400</td>\n",
       "      <td>0.255</td>\n",
       "      <td>0.000</td>\n",
       "      <td>0.745</td>\n",
       "      <td>1</td>\n",
       "    </tr>\n",
       "    <tr>\n",
       "      <th>8</th>\n",
       "      <td>full year deliver billion revenue eps</td>\n",
       "      <td>0.0000</td>\n",
       "      <td>0.000</td>\n",
       "      <td>0.000</td>\n",
       "      <td>1.000</td>\n",
       "      <td>2</td>\n",
       "    </tr>\n",
       "    <tr>\n",
       "      <th>9</th>\n",
       "      <td>client data center memory mobileye business se...</td>\n",
       "      <td>0.0000</td>\n",
       "      <td>0.000</td>\n",
       "      <td>0.000</td>\n",
       "      <td>1.000</td>\n",
       "      <td>2</td>\n",
       "    </tr>\n",
       "  </tbody>\n",
       "</table>\n",
       "</div>"
      ],
      "text/plain": [
       "                              preprocessed_sentences  compound  positive  \\\n",
       "0                       thank pat welcome back intel    0.6705     0.647   \n",
       "1        honor lead incredible company talented team    0.7579     0.619   \n",
       "2  give great confidence intel future know 'll pa...    0.8750     0.357   \n",
       "3  last two year make significant progress strate...    0.7096     0.315   \n",
       "4  proud 're able achieve together intel team rel...    0.7506     0.252   \n",
       "5  demonstrate result announce today demand intel...    0.8658     0.473   \n",
       "6  result significantly exceed expectation cap fi...    0.0000     0.000   \n",
       "7  generate billion revenue eps exceed guidance b...    0.3400     0.255   \n",
       "8              full year deliver billion revenue eps    0.0000     0.000   \n",
       "9  client data center memory mobileye business se...    0.0000     0.000   \n",
       "\n",
       "   negative  neutral  sentiment  \n",
       "0     0.000    0.353          1  \n",
       "1     0.000    0.381          1  \n",
       "2     0.000    0.643          1  \n",
       "3     0.000    0.685          1  \n",
       "4     0.000    0.748          1  \n",
       "5     0.118    0.408          1  \n",
       "6     0.000    1.000          2  \n",
       "7     0.000    0.745          1  \n",
       "8     0.000    1.000          2  \n",
       "9     0.000    1.000          2  "
      ]
     },
     "execution_count": 16,
     "metadata": {},
     "output_type": "execute_result"
    }
   ],
   "source": [
    "# Create sntiment column with default value of 0:\n",
    "ceo_preprocessed_sentiments_df['sentiment']=0\n",
    "\n",
    "# Conditional loop to assign sentiment value from compound score conditionals:\n",
    "for index, row in ceo_preprocessed_sentiments_df.iterrows():\n",
    "    comp = row['compound']\n",
    "    if comp >= 0.05:\n",
    "        ceo_preprocessed_sentiments_df.at[index,'sentiment'] = 1\n",
    "    elif comp <= -0.05:\n",
    "        ceo_preprocessed_sentiments_df.at[index,'sentiment'] = 0\n",
    "    else:\n",
    "        ceo_preprocessed_sentiments_df.at[index,'sentiment'] = 2\n",
    "        \n",
    "# Display dataFrame:\n",
    "ceo_preprocessed_sentiments_df.head(10)"
   ]
  },
  {
   "cell_type": "code",
   "execution_count": 17,
   "metadata": {
    "jupyter": {
     "source_hidden": true
    }
   },
   "outputs": [],
   "source": [
    "# # Create sntiment column with default value of 0:\n",
    "# cfo_preprocessed_sentiments_df['sentiment']=0\n",
    "\n",
    "# # Conditional loop to assign sentiment value from compound score conditionals:\n",
    "# for index, row in cfo_preprocessed_sentiments_df.iterrows():\n",
    "#     pos = row[\"positive\"]\n",
    "#     neg = row['negative']\n",
    "#     neu = row[\"neutral\"]\n",
    "#     comp = row['compound']\n",
    "#     if comp >= 0.05:\n",
    "#         cfo_preprocessed_sentiments_df.at[index, 'compound_sentiment_score'] = 1\n",
    "#     elif comp <= -0.05:\n",
    "#         cfo_preprocessed_sentiments_df.at[index, 'compound_sentiment_score'] = 0\n",
    "#     else:\n",
    "#         cfo_preprocessed_sentiments_df.at[index, 'compound_sentiment_score'] = 2\n",
    "        \n",
    "# cfo_preprocessed_sentiments_df.head(10)"
   ]
  },
  {
   "cell_type": "markdown",
   "metadata": {},
   "source": [
    "#### Drop Neutrals"
   ]
  },
  {
   "cell_type": "code",
   "execution_count": 18,
   "metadata": {},
   "outputs": [],
   "source": [
    "ceo_preprocessed_sentiments_df = ceo_preprocessed_sentiments_df.drop(columns=['compound','positive','negative','neutral'])"
   ]
  },
  {
   "cell_type": "code",
   "execution_count": 19,
   "metadata": {},
   "outputs": [
    {
     "data": {
      "text/html": [
       "<div>\n",
       "<style scoped>\n",
       "    .dataframe tbody tr th:only-of-type {\n",
       "        vertical-align: middle;\n",
       "    }\n",
       "\n",
       "    .dataframe tbody tr th {\n",
       "        vertical-align: top;\n",
       "    }\n",
       "\n",
       "    .dataframe thead th {\n",
       "        text-align: right;\n",
       "    }\n",
       "</style>\n",
       "<table border=\"1\" class=\"dataframe\">\n",
       "  <thead>\n",
       "    <tr style=\"text-align: right;\">\n",
       "      <th></th>\n",
       "      <th>preprocessed_sentences</th>\n",
       "      <th>sentiment</th>\n",
       "    </tr>\n",
       "  </thead>\n",
       "  <tbody>\n",
       "    <tr>\n",
       "      <th>0</th>\n",
       "      <td>thank pat welcome back intel</td>\n",
       "      <td>1</td>\n",
       "    </tr>\n",
       "    <tr>\n",
       "      <th>1</th>\n",
       "      <td>honor lead incredible company talented team</td>\n",
       "      <td>1</td>\n",
       "    </tr>\n",
       "    <tr>\n",
       "      <th>2</th>\n",
       "      <td>give great confidence intel future know 'll pa...</td>\n",
       "      <td>1</td>\n",
       "    </tr>\n",
       "    <tr>\n",
       "      <th>3</th>\n",
       "      <td>last two year make significant progress strate...</td>\n",
       "      <td>1</td>\n",
       "    </tr>\n",
       "    <tr>\n",
       "      <th>4</th>\n",
       "      <td>proud 're able achieve together intel team rel...</td>\n",
       "      <td>1</td>\n",
       "    </tr>\n",
       "    <tr>\n",
       "      <th>5</th>\n",
       "      <td>demonstrate result announce today demand intel...</td>\n",
       "      <td>1</td>\n",
       "    </tr>\n",
       "    <tr>\n",
       "      <th>6</th>\n",
       "      <td>result significantly exceed expectation cap fi...</td>\n",
       "      <td>2</td>\n",
       "    </tr>\n",
       "    <tr>\n",
       "      <th>7</th>\n",
       "      <td>generate billion revenue eps exceed guidance b...</td>\n",
       "      <td>1</td>\n",
       "    </tr>\n",
       "    <tr>\n",
       "      <th>8</th>\n",
       "      <td>full year deliver billion revenue eps</td>\n",
       "      <td>2</td>\n",
       "    </tr>\n",
       "    <tr>\n",
       "      <th>9</th>\n",
       "      <td>client data center memory mobileye business se...</td>\n",
       "      <td>2</td>\n",
       "    </tr>\n",
       "  </tbody>\n",
       "</table>\n",
       "</div>"
      ],
      "text/plain": [
       "                              preprocessed_sentences  sentiment\n",
       "0                       thank pat welcome back intel          1\n",
       "1        honor lead incredible company talented team          1\n",
       "2  give great confidence intel future know 'll pa...          1\n",
       "3  last two year make significant progress strate...          1\n",
       "4  proud 're able achieve together intel team rel...          1\n",
       "5  demonstrate result announce today demand intel...          1\n",
       "6  result significantly exceed expectation cap fi...          2\n",
       "7  generate billion revenue eps exceed guidance b...          1\n",
       "8              full year deliver billion revenue eps          2\n",
       "9  client data center memory mobileye business se...          2"
      ]
     },
     "execution_count": 19,
     "metadata": {},
     "output_type": "execute_result"
    }
   ],
   "source": [
    "ceo_preprocessed_sentiments_df.head(10)"
   ]
  },
  {
   "cell_type": "code",
   "execution_count": 20,
   "metadata": {},
   "outputs": [],
   "source": [
    "ceo_preprocessed_sentiments_df = ceo_preprocessed_sentiments_df[ceo_preprocessed_sentiments_df.sentiment < 2]"
   ]
  },
  {
   "cell_type": "code",
   "execution_count": 21,
   "metadata": {},
   "outputs": [
    {
     "data": {
      "text/html": [
       "<div>\n",
       "<style scoped>\n",
       "    .dataframe tbody tr th:only-of-type {\n",
       "        vertical-align: middle;\n",
       "    }\n",
       "\n",
       "    .dataframe tbody tr th {\n",
       "        vertical-align: top;\n",
       "    }\n",
       "\n",
       "    .dataframe thead th {\n",
       "        text-align: right;\n",
       "    }\n",
       "</style>\n",
       "<table border=\"1\" class=\"dataframe\">\n",
       "  <thead>\n",
       "    <tr style=\"text-align: right;\">\n",
       "      <th></th>\n",
       "      <th>preprocessed_sentences</th>\n",
       "      <th>sentiment</th>\n",
       "    </tr>\n",
       "  </thead>\n",
       "  <tbody>\n",
       "    <tr>\n",
       "      <th>0</th>\n",
       "      <td>thank pat welcome back intel</td>\n",
       "      <td>1</td>\n",
       "    </tr>\n",
       "    <tr>\n",
       "      <th>1</th>\n",
       "      <td>honor lead incredible company talented team</td>\n",
       "      <td>1</td>\n",
       "    </tr>\n",
       "    <tr>\n",
       "      <th>2</th>\n",
       "      <td>give great confidence intel future know 'll pa...</td>\n",
       "      <td>1</td>\n",
       "    </tr>\n",
       "    <tr>\n",
       "      <th>3</th>\n",
       "      <td>last two year make significant progress strate...</td>\n",
       "      <td>1</td>\n",
       "    </tr>\n",
       "    <tr>\n",
       "      <th>4</th>\n",
       "      <td>proud 're able achieve together intel team rel...</td>\n",
       "      <td>1</td>\n",
       "    </tr>\n",
       "    <tr>\n",
       "      <th>5</th>\n",
       "      <td>demonstrate result announce today demand intel...</td>\n",
       "      <td>1</td>\n",
       "    </tr>\n",
       "    <tr>\n",
       "      <th>7</th>\n",
       "      <td>generate billion revenue eps exceed guidance b...</td>\n",
       "      <td>1</td>\n",
       "    </tr>\n",
       "    <tr>\n",
       "      <th>10</th>\n",
       "      <td>continue advance three strategic priority impr...</td>\n",
       "      <td>1</td>\n",
       "    </tr>\n",
       "    <tr>\n",
       "      <th>11</th>\n",
       "      <td>let briefly discus highlight</td>\n",
       "      <td>1</td>\n",
       "    </tr>\n",
       "    <tr>\n",
       "      <th>12</th>\n",
       "      <td>start improve execution strengthen core busine...</td>\n",
       "      <td>1</td>\n",
       "    </tr>\n",
       "  </tbody>\n",
       "</table>\n",
       "</div>"
      ],
      "text/plain": [
       "                               preprocessed_sentences  sentiment\n",
       "0                        thank pat welcome back intel          1\n",
       "1         honor lead incredible company talented team          1\n",
       "2   give great confidence intel future know 'll pa...          1\n",
       "3   last two year make significant progress strate...          1\n",
       "4   proud 're able achieve together intel team rel...          1\n",
       "5   demonstrate result announce today demand intel...          1\n",
       "7   generate billion revenue eps exceed guidance b...          1\n",
       "10  continue advance three strategic priority impr...          1\n",
       "11                       let briefly discus highlight          1\n",
       "12  start improve execution strengthen core busine...          1"
      ]
     },
     "execution_count": 21,
     "metadata": {},
     "output_type": "execute_result"
    }
   ],
   "source": [
    "ceo_preprocessed_sentiments_df.head(10)"
   ]
  },
  {
   "cell_type": "code",
   "execution_count": 22,
   "metadata": {},
   "outputs": [],
   "source": [
    "# Create the features (X) and the target vector (y)\n",
    "X = ceo_preprocessed_sentiments_df[\"preprocessed_sentences\"].values\n",
    "y = ceo_preprocessed_sentiments_df[\"sentiment\"].values"
   ]
  },
  {
   "cell_type": "code",
   "execution_count": 23,
   "metadata": {},
   "outputs": [],
   "source": [
    "# Create the train, test, and validation sets:\n",
    "X_train, X_test, y_train, y_test = train_test_split(X, y)\n",
    "X_train, X_val, y_train, y_val = train_test_split(X_train, y_train)"
   ]
  },
  {
   "cell_type": "code",
   "execution_count": 24,
   "metadata": {},
   "outputs": [],
   "source": [
    "# Define two lists to store vader sentiment scoring:\n",
    "y_vader_pred = []\n",
    "y_vader_prob = []"
   ]
  },
  {
   "cell_type": "code",
   "execution_count": 25,
   "metadata": {
    "jupyter": {
     "source_hidden": true
    }
   },
   "outputs": [
    {
     "name": "stdout",
     "output_type": "stream",
     "text": [
      "let briefly discus highlight\n",
      "pat chance join 'll ass analysis drive final manufacture decision cpu product\n",
      "'ve drive spend revenue revenue invest manufacture capacity expansion add billion target higher growth initiative focus product portfolio\n",
      "look forward watch pat team continue progress build intel purpose deliver breakthrough technology enrich life everyone planet\n",
      "finally enviable asset lead explosive growth intelligent autonomous edge compute\n",
      "last year 've follow idm model ensure deliver predictable cadence leadership product preserve idm advantage continue invest process technology leadership generate attractive return capital\n",
      "part work last six month also streamline simplify -nanometer process architecture better ensure 'll able deliver product road map\n",
      "past several year make investment position lead key technology inflection network transformation intelligent autonomous edge\n",
      "demonstrate result announce today demand intel innovative technology remain strong investment capitalize future growth opportunity pay\n",
      "honor lead incredible company talented team\n",
      "start improve execution strengthen core business let start update process technology product road map\n"
     ]
    }
   ],
   "source": [
    "# Score sentiment of test set using Vader:\n",
    "for comment in X_test:\n",
    "    print(comment)\n",
    "    y_vader_prob.append(analyzer.polarity_scores(comment)[\"pos\"])\n",
    "    sentiment_score = analyzer.polarity_scores(comment)[\"compound\"]\n",
    "    if sentiment_score >= 0.1:\n",
    "        y_vader_pred.append(1)\n",
    "    else:\n",
    "        y_vader_pred.append(0)"
   ]
  },
  {
   "cell_type": "code",
   "execution_count": 26,
   "metadata": {},
   "outputs": [
    {
     "data": {
      "text/plain": [
       "array([[0.6399177 ],\n",
       "       [0.24279835],\n",
       "       [0.        ],\n",
       "       [0.03292181],\n",
       "       [0.82921811]])"
      ]
     },
     "execution_count": 26,
     "metadata": {},
     "output_type": "execute_result"
    }
   ],
   "source": [
    "# Option 1: Normalizing data using MinMaxScaler from sklearn:\n",
    "scaler = MinMaxScaler()\n",
    "scaler.fit(np.array(y_vader_prob).reshape(-1,1))\n",
    "y_vader_prob_norm = scaler.transform(np.array(y_vader_prob).reshape(-1,1))\n",
    "y_vader_prob_norm[:5]"
   ]
  },
  {
   "cell_type": "code",
   "execution_count": 27,
   "metadata": {},
   "outputs": [
    {
     "data": {
      "text/plain": [
       "[0.6399176954732511,\n",
       " 0.24279835390946503,\n",
       " 0.0,\n",
       " 0.03292181069958845,\n",
       " 0.8292181069958848]"
      ]
     },
     "execution_count": 27,
     "metadata": {},
     "output_type": "execute_result"
    }
   ],
   "source": [
    "# Option 2: Using a comprehension list (OPTIONAL - RATHER USE MINMAXScaler):\n",
    "normalized = [(x - min(y_vader_prob)) / (max(y_vader_prob) - min(y_vader_prob))\n",
    "              for x in y_vader_prob]\n",
    "normalized[:5]"
   ]
  },
  {
   "cell_type": "code",
   "execution_count": 75,
   "metadata": {},
   "outputs": [
    {
     "name": "stdout",
     "output_type": "stream",
     "text": [
      "BLEU score: 1.0\n"
     ]
    }
   ],
   "source": [
    "# split will transform the sentence into 1-gram\n",
    "for sentence in df_ceo['preprocessed_sentences']:\n",
    "    reference = [\n",
    "        sentence.split(),\n",
    "#         print(sentence),\n",
    "        sentence.split()\n",
    "    ]\n",
    "\n",
    "translation = sentence.split()\n",
    "print('BLEU score: {}'.format(bleu.sentence_bleu(reference, translation)))"
   ]
  },
  {
   "cell_type": "markdown",
   "metadata": {},
   "source": [
    "### SCORING SENTIMENT USING RNN LSTM"
   ]
  },
  {
   "cell_type": "code",
   "execution_count": 29,
   "metadata": {},
   "outputs": [],
   "source": [
    "# Create an instance of the Tokenizer and fit it with the X text data:\n",
    "tokenizer = Tokenizer(lower=True)\n",
    "tokenizer.fit_on_texts(X)"
   ]
  },
  {
   "cell_type": "code",
   "execution_count": 30,
   "metadata": {},
   "outputs": [
    {
     "name": "stdout",
     "output_type": "stream",
     "text": [
      "word: 'intel', token: 1\n",
      "word: 'deliver', token: 2\n",
      "word: 'product', token: 3\n",
      "word: ''ve', token: 4\n",
      "word: 'technology', token: 5\n"
     ]
    }
   ],
   "source": [
    "# Print the first five elements of the encoded vocabulary:\n",
    "for token in list(tokenizer.word_index)[:5]:\n",
    "    print(f\"word: '{token}', token: {tokenizer.word_index[token]}\")"
   ]
  },
  {
   "cell_type": "code",
   "execution_count": 31,
   "metadata": {},
   "outputs": [],
   "source": [
    "# Transform the text data to numerical sequences:\n",
    "X_seq = tokenizer.texts_to_sequences(X)"
   ]
  },
  {
   "cell_type": "code",
   "execution_count": 32,
   "metadata": {},
   "outputs": [
    {
     "name": "stdout",
     "output_type": "stream",
     "text": [
      "**Text comment**\n",
      "{'demonstrate result announce today demand intel innovative technology remain strong investment capitalize future growth opportunity pay'}\n"
     ]
    }
   ],
   "source": [
    "# Contrast a sample numerical sequence with its text version:\n",
    "print(\"**Text comment**\")\n",
    "print({X[5]})"
   ]
  },
  {
   "cell_type": "code",
   "execution_count": 33,
   "metadata": {},
   "outputs": [
    {
     "name": "stdout",
     "output_type": "stream",
     "text": [
      "**Numerical sequence representation**\n",
      "[155, 77, 23, 24, 156, 1, 157, 5, 158, 43, 78, 159, 67, 10, 79, 160]\n"
     ]
    }
   ],
   "source": [
    "print(\"**Numerical sequence representation**\")\n",
    "print(X_seq[5])"
   ]
  },
  {
   "cell_type": "code",
   "execution_count": 34,
   "metadata": {},
   "outputs": [],
   "source": [
    "# Import the pad_sequences method from Keras:\n",
    "from tensorflow.keras.preprocessing.sequence import pad_sequences"
   ]
  },
  {
   "cell_type": "code",
   "execution_count": 35,
   "metadata": {},
   "outputs": [],
   "source": [
    "# Set the pad size:\n",
    "max_words = 140\n",
    "\n",
    "# Pad the sequences using the pad_sequences() method:\n",
    "X_pad = pad_sequences(X_seq, maxlen=max_words, padding=\"post\")"
   ]
  },
  {
   "cell_type": "code",
   "execution_count": 36,
   "metadata": {},
   "outputs": [],
   "source": [
    "# Creating training, validation, and testing sets using the encoded data:\n",
    "X_train_rnn, X_test_rnn, y_train_rnn, y_test_rnn = train_test_split(X_pad, y)\n",
    "\n",
    "X_train_rnn, X_val_rnn, y_train_rnn, y_val_rnn = train_test_split(X_train_rnn, y_train_rnn)"
   ]
  },
  {
   "cell_type": "markdown",
   "metadata": {},
   "source": [
    "### Build and Train the RNN LSTM MODEL"
   ]
  },
  {
   "cell_type": "code",
   "execution_count": 37,
   "metadata": {},
   "outputs": [],
   "source": [
    "# Model set-up:\n",
    "vocabulary_size = len(tokenizer.word_counts.keys()) + 1\n",
    "embedding_size = 64"
   ]
  },
  {
   "cell_type": "code",
   "execution_count": 38,
   "metadata": {},
   "outputs": [],
   "source": [
    "# Define the LSTM RNN model:\n",
    "model = Sequential()\n",
    "\n",
    "# Layer 1:\n",
    "model.add(Embedding(vocabulary_size, embedding_size, input_length=max_words))\n",
    "\n",
    "# Layer 2:\n",
    "model.add(LSTM(units=280))\n",
    "\n",
    "# Output layer:\n",
    "model.add(Dense(units=1, activation=\"sigmoid\"))"
   ]
  },
  {
   "cell_type": "code",
   "execution_count": 39,
   "metadata": {},
   "outputs": [],
   "source": [
    "# Compile the model:\n",
    "model.compile(\n",
    "    loss=\"binary_crossentropy\",\n",
    "    optimizer=\"adam\",\n",
    "    metrics=[\n",
    "        \"accuracy\",\n",
    "        tf.keras.metrics.TruePositives(name=\"tp\"),\n",
    "        tf.keras.metrics.TrueNegatives(name=\"tn\"),\n",
    "        tf.keras.metrics.FalsePositives(name=\"fp\"),\n",
    "        tf.keras.metrics.FalseNegatives(name=\"fn\"),\n",
    "        tf.keras.metrics.Precision(name=\"precision\"),\n",
    "        tf.keras.metrics.Recall(name=\"recall\"),\n",
    "        tf.keras.metrics.AUC(name=\"auc\"),\n",
    "    ],\n",
    ")"
   ]
  },
  {
   "cell_type": "code",
   "execution_count": 40,
   "metadata": {},
   "outputs": [
    {
     "name": "stdout",
     "output_type": "stream",
     "text": [
      "Model: \"sequential\"\n",
      "_________________________________________________________________\n",
      "Layer (type)                 Output Shape              Param #   \n",
      "=================================================================\n",
      "embedding (Embedding)        (None, 140, 64)           24448     \n",
      "_________________________________________________________________\n",
      "lstm (LSTM)                  (None, 280)               386400    \n",
      "_________________________________________________________________\n",
      "dense (Dense)                (None, 1)                 281       \n",
      "=================================================================\n",
      "Total params: 411,129\n",
      "Trainable params: 411,129\n",
      "Non-trainable params: 0\n",
      "_________________________________________________________________\n"
     ]
    }
   ],
   "source": [
    "# Show model summary:\n",
    "model.summary()"
   ]
  },
  {
   "cell_type": "code",
   "execution_count": 41,
   "metadata": {},
   "outputs": [
    {
     "name": "stdout",
     "output_type": "stream",
     "text": [
      "Epoch 1/10\n",
      "1/1 [==============================] - 11s 11s/step - loss: 0.6827 - accuracy: 1.0000 - tp: 24.0000 - tn: 0.0000e+00 - fp: 0.0000e+00 - fn: 0.0000e+00 - precision: 1.0000 - recall: 1.0000 - auc: 0.0000e+00 - val_loss: 0.6485 - val_accuracy: 0.8889 - val_tp: 8.0000 - val_tn: 0.0000e+00 - val_fp: 1.0000 - val_fn: 0.0000e+00 - val_precision: 0.8889 - val_recall: 1.0000 - val_auc: 0.5000\n",
      "Epoch 2/10\n",
      "1/1 [==============================] - 1s 626ms/step - loss: 0.6353 - accuracy: 1.0000 - tp: 24.0000 - tn: 0.0000e+00 - fp: 0.0000e+00 - fn: 0.0000e+00 - precision: 1.0000 - recall: 1.0000 - auc: 0.0000e+00 - val_loss: 0.6057 - val_accuracy: 0.8889 - val_tp: 8.0000 - val_tn: 0.0000e+00 - val_fp: 1.0000 - val_fn: 0.0000e+00 - val_precision: 0.8889 - val_recall: 1.0000 - val_auc: 0.5000\n",
      "Epoch 3/10\n",
      "1/1 [==============================] - 1s 628ms/step - loss: 0.5786 - accuracy: 1.0000 - tp: 24.0000 - tn: 0.0000e+00 - fp: 0.0000e+00 - fn: 0.0000e+00 - precision: 1.0000 - recall: 1.0000 - auc: 0.0000e+00 - val_loss: 0.5414 - val_accuracy: 0.8889 - val_tp: 8.0000 - val_tn: 0.0000e+00 - val_fp: 1.0000 - val_fn: 0.0000e+00 - val_precision: 0.8889 - val_recall: 1.0000 - val_auc: 0.5000\n",
      "Epoch 4/10\n",
      "1/1 [==============================] - 1s 613ms/step - loss: 0.4907 - accuracy: 1.0000 - tp: 24.0000 - tn: 0.0000e+00 - fp: 0.0000e+00 - fn: 0.0000e+00 - precision: 1.0000 - recall: 1.0000 - auc: 0.0000e+00 - val_loss: 0.4175 - val_accuracy: 0.8889 - val_tp: 8.0000 - val_tn: 0.0000e+00 - val_fp: 1.0000 - val_fn: 0.0000e+00 - val_precision: 0.8889 - val_recall: 1.0000 - val_auc: 0.5000\n",
      "Epoch 5/10\n",
      "1/1 [==============================] - 1s 625ms/step - loss: 0.3015 - accuracy: 1.0000 - tp: 24.0000 - tn: 0.0000e+00 - fp: 0.0000e+00 - fn: 0.0000e+00 - precision: 1.0000 - recall: 1.0000 - auc: 0.0000e+00 - val_loss: 0.5281 - val_accuracy: 0.8889 - val_tp: 8.0000 - val_tn: 0.0000e+00 - val_fp: 1.0000 - val_fn: 0.0000e+00 - val_precision: 0.8889 - val_recall: 1.0000 - val_auc: 0.5000\n",
      "Epoch 6/10\n",
      "1/1 [==============================] - 1s 597ms/step - loss: 0.0094 - accuracy: 1.0000 - tp: 24.0000 - tn: 0.0000e+00 - fp: 0.0000e+00 - fn: 0.0000e+00 - precision: 1.0000 - recall: 1.0000 - auc: 0.0000e+00 - val_loss: 0.8267 - val_accuracy: 0.8889 - val_tp: 8.0000 - val_tn: 0.0000e+00 - val_fp: 1.0000 - val_fn: 0.0000e+00 - val_precision: 0.8889 - val_recall: 1.0000 - val_auc: 0.5000\n",
      "Epoch 7/10\n",
      "1/1 [==============================] - 1s 597ms/step - loss: 5.8985e-04 - accuracy: 1.0000 - tp: 24.0000 - tn: 0.0000e+00 - fp: 0.0000e+00 - fn: 0.0000e+00 - precision: 1.0000 - recall: 1.0000 - auc: 0.0000e+00 - val_loss: 0.9571 - val_accuracy: 0.8889 - val_tp: 8.0000 - val_tn: 0.0000e+00 - val_fp: 1.0000 - val_fn: 0.0000e+00 - val_precision: 0.8889 - val_recall: 1.0000 - val_auc: 0.5000\n",
      "Epoch 8/10\n",
      "1/1 [==============================] - 1s 593ms/step - loss: 1.8189e-04 - accuracy: 1.0000 - tp: 24.0000 - tn: 0.0000e+00 - fp: 0.0000e+00 - fn: 0.0000e+00 - precision: 1.0000 - recall: 1.0000 - auc: 0.0000e+00 - val_loss: 1.0332 - val_accuracy: 0.8889 - val_tp: 8.0000 - val_tn: 0.0000e+00 - val_fp: 1.0000 - val_fn: 0.0000e+00 - val_precision: 0.8889 - val_recall: 1.0000 - val_auc: 0.5000\n",
      "Epoch 9/10\n",
      "1/1 [==============================] - 1s 609ms/step - loss: 9.1642e-05 - accuracy: 1.0000 - tp: 24.0000 - tn: 0.0000e+00 - fp: 0.0000e+00 - fn: 0.0000e+00 - precision: 1.0000 - recall: 1.0000 - auc: 0.0000e+00 - val_loss: 1.0888 - val_accuracy: 0.8889 - val_tp: 8.0000 - val_tn: 0.0000e+00 - val_fp: 1.0000 - val_fn: 0.0000e+00 - val_precision: 0.8889 - val_recall: 1.0000 - val_auc: 0.5000\n",
      "Epoch 10/10\n",
      "1/1 [==============================] - 1s 624ms/step - loss: 5.5540e-05 - accuracy: 1.0000 - tp: 24.0000 - tn: 0.0000e+00 - fp: 0.0000e+00 - fn: 0.0000e+00 - precision: 1.0000 - recall: 1.0000 - auc: 0.0000e+00 - val_loss: 1.1351 - val_accuracy: 0.8889 - val_tp: 8.0000 - val_tn: 0.0000e+00 - val_fp: 1.0000 - val_fn: 0.0000e+00 - val_precision: 0.8889 - val_recall: 1.0000 - val_auc: 0.5000\n"
     ]
    },
    {
     "data": {
      "text/plain": [
       "<tensorflow.python.keras.callbacks.History at 0x14b94499b80>"
      ]
     },
     "execution_count": 41,
     "metadata": {},
     "output_type": "execute_result"
    }
   ],
   "source": [
    "# Training the model:\n",
    "batch_size = 1000\n",
    "epochs = 10\n",
    "model.fit(\n",
    "    X_train_rnn,\n",
    "    y_train_rnn,\n",
    "    validation_data=(X_val_rnn, y_val_rnn),\n",
    "    epochs=epochs,\n",
    "    batch_size=batch_size,\n",
    "    verbose=1,\n",
    ")"
   ]
  },
  {
   "cell_type": "code",
   "execution_count": 42,
   "metadata": {},
   "outputs": [],
   "source": [
    "# Predict classes using the testing data:\n",
    "y_rnn_pred = model.predict(X_test_rnn, batch_size=100)"
   ]
  },
  {
   "cell_type": "code",
   "execution_count": 43,
   "metadata": {},
   "outputs": [],
   "source": [
    "predicted2 = (model.predict(X_test_rnn[:10])>0.5).astype(\"int32\")"
   ]
  },
  {
   "cell_type": "markdown",
   "metadata": {},
   "source": [
    "## Model Comparison:"
   ]
  },
  {
   "cell_type": "markdown",
   "metadata": {},
   "source": [
    "### Accuracy Scores"
   ]
  },
  {
   "cell_type": "code",
   "execution_count": 44,
   "metadata": {},
   "outputs": [
    {
     "name": "stdout",
     "output_type": "stream",
     "text": [
      "Vader Accuracy: 1.00\n",
      "RNN LSTM Accuracy 10.00\n"
     ]
    }
   ],
   "source": [
    "print(\"Vader Accuracy: %.2f\" % (accuracy_score(y_test, y_vader_pred)))\n",
    "# print(\"RNN LSTM Accuracy %.2f\" % (accuracy_score(y_test_rnn, y_rnn_pred)))\n",
    "print(\"RNN LSTM Accuracy %.2f\" % (accuracy_score(y_test, y_rnn_pred.round(), normalize=False)))"
   ]
  },
  {
   "cell_type": "markdown",
   "metadata": {},
   "source": [
    "### Confusion Matrices"
   ]
  },
  {
   "cell_type": "code",
   "execution_count": 45,
   "metadata": {},
   "outputs": [
    {
     "name": "stdout",
     "output_type": "stream",
     "text": [
      "Confusion Matrix from Vader\n"
     ]
    },
    {
     "data": {
      "text/html": [
       "<div>\n",
       "<style scoped>\n",
       "    .dataframe tbody tr th:only-of-type {\n",
       "        vertical-align: middle;\n",
       "    }\n",
       "\n",
       "    .dataframe tbody tr th {\n",
       "        vertical-align: top;\n",
       "    }\n",
       "\n",
       "    .dataframe thead th {\n",
       "        text-align: right;\n",
       "    }\n",
       "</style>\n",
       "<table border=\"1\" class=\"dataframe\">\n",
       "  <thead>\n",
       "    <tr style=\"text-align: right;\">\n",
       "      <th>Predicted</th>\n",
       "      <th>Positive(1)</th>\n",
       "      <th>Negative(0)</th>\n",
       "    </tr>\n",
       "    <tr>\n",
       "      <th>Actual</th>\n",
       "      <th></th>\n",
       "      <th></th>\n",
       "    </tr>\n",
       "  </thead>\n",
       "  <tbody>\n",
       "    <tr>\n",
       "      <th>Positive(1)</th>\n",
       "      <td>TP=10</td>\n",
       "      <td>FN=0</td>\n",
       "    </tr>\n",
       "    <tr>\n",
       "      <th>Negative(0)</th>\n",
       "      <td>FP=0</td>\n",
       "      <td>TN=1</td>\n",
       "    </tr>\n",
       "  </tbody>\n",
       "</table>\n",
       "</div>"
      ],
      "text/plain": [
       "Predicted   Positive(1) Negative(0)\n",
       "Actual                             \n",
       "Positive(1)       TP=10        FN=0\n",
       "Negative(0)        FP=0        TN=1"
      ]
     },
     "metadata": {},
     "output_type": "display_data"
    }
   ],
   "source": [
    "# Confusion matrtix metrics from Vader:\n",
    "tn_vader, fp_vader, fn_vader, tp_vader = confusion_matrix(y_test, y_vader_pred, labels=[0,1]).ravel()\n",
    "\n",
    "# Dataframe to display confusion matrix from Vader:\n",
    "cm_vader_df = pd.DataFrame(\n",
    "    {\n",
    "        \"Positive(1)\": [f\"TP={tp_vader}\", f\"FP={fp_vader}\"],\n",
    "        \"Negative(0)\": [f\"FN={fn_vader}\", f\"TN={tn_vader}\"],\n",
    "    },\n",
    "    index=[\"Positive(1)\", \"Negative(0)\"],\n",
    ")\n",
    "\n",
    "cm_vader_df.index.name = \"Actual\"\n",
    "cm_vader_df.columns.name = \"Predicted\"\n",
    "\n",
    "print(\"Confusion Matrix from Vader\")\n",
    "display(cm_vader_df)"
   ]
  },
  {
   "cell_type": "code",
   "execution_count": 46,
   "metadata": {},
   "outputs": [
    {
     "name": "stdout",
     "output_type": "stream",
     "text": [
      "Confusion Matrix from the RNN LSTM Model\n"
     ]
    },
    {
     "data": {
      "text/html": [
       "<div>\n",
       "<style scoped>\n",
       "    .dataframe tbody tr th:only-of-type {\n",
       "        vertical-align: middle;\n",
       "    }\n",
       "\n",
       "    .dataframe tbody tr th {\n",
       "        vertical-align: top;\n",
       "    }\n",
       "\n",
       "    .dataframe thead th {\n",
       "        text-align: right;\n",
       "    }\n",
       "</style>\n",
       "<table border=\"1\" class=\"dataframe\">\n",
       "  <thead>\n",
       "    <tr style=\"text-align: right;\">\n",
       "      <th>Predicted</th>\n",
       "      <th>Positive(1)</th>\n",
       "      <th>Negative(0)</th>\n",
       "    </tr>\n",
       "    <tr>\n",
       "      <th>Actual</th>\n",
       "      <th></th>\n",
       "      <th></th>\n",
       "    </tr>\n",
       "  </thead>\n",
       "  <tbody>\n",
       "    <tr>\n",
       "      <th>Positive(1)</th>\n",
       "      <td>TP=1.0</td>\n",
       "      <td>FN=0.0</td>\n",
       "    </tr>\n",
       "    <tr>\n",
       "      <th>Negative(0)</th>\n",
       "      <td>FP=1.0</td>\n",
       "      <td>TN=0.0</td>\n",
       "    </tr>\n",
       "  </tbody>\n",
       "</table>\n",
       "</div>"
      ],
      "text/plain": [
       "Predicted   Positive(1) Negative(0)\n",
       "Actual                             \n",
       "Positive(1)      TP=1.0      FN=0.0\n",
       "Negative(0)      FP=1.0      TN=0.0"
      ]
     },
     "metadata": {},
     "output_type": "display_data"
    }
   ],
   "source": [
    "# Confusion matrtix from the LSTM model:\n",
    "tn_rnn, fp_rnn, fn_rnn, tp_rnn = confusion_matrix(y_test_rnn, y_rnn_pred.round(), normalize='true', labels=[0,1]).ravel()\n",
    "\n",
    "# Dataframe to display confusion matrix from the RNN LSTM model:\n",
    "cm_rnn_df = pd.DataFrame(\n",
    "    {\n",
    "        \"Positive(1)\": [f\"TP={tp_rnn}\", f\"FP={fp_rnn}\"],\n",
    "        \"Negative(0)\": [f\"FN={fn_rnn}\", f\"TN={tn_rnn}\"],\n",
    "    },\n",
    "    index=[\"Positive(1)\", \"Negative(0)\"],\n",
    ")\n",
    "\n",
    "cm_rnn_df.index.name = \"Actual\"\n",
    "cm_rnn_df.columns.name = \"Predicted\"\n",
    "\n",
    "print(\"Confusion Matrix from the RNN LSTM Model\")\n",
    "display(cm_rnn_df)"
   ]
  },
  {
   "cell_type": "code",
   "execution_count": 47,
   "metadata": {},
   "outputs": [
    {
     "data": {
      "text/plain": [
       "array([[0.9999634],\n",
       "       [0.9999634],\n",
       "       [0.9999634],\n",
       "       [0.9999634],\n",
       "       [0.9999634],\n",
       "       [0.9999634],\n",
       "       [0.9999634],\n",
       "       [0.9999634],\n",
       "       [0.9999634],\n",
       "       [0.9999634],\n",
       "       [0.9999634]], dtype=float32)"
      ]
     },
     "execution_count": 47,
     "metadata": {},
     "output_type": "execute_result"
    }
   ],
   "source": [
    "y_rnn_pred"
   ]
  },
  {
   "cell_type": "code",
   "execution_count": 48,
   "metadata": {},
   "outputs": [
    {
     "data": {
      "text/plain": [
       "array([1, 1, 1, 1, 1, 1, 1, 1, 0, 1, 1], dtype=int64)"
      ]
     },
     "execution_count": 48,
     "metadata": {},
     "output_type": "execute_result"
    }
   ],
   "source": [
    "y_test_rnn"
   ]
  },
  {
   "cell_type": "markdown",
   "metadata": {},
   "source": [
    "### Classification Reports"
   ]
  },
  {
   "cell_type": "code",
   "execution_count": 49,
   "metadata": {},
   "outputs": [
    {
     "name": "stdout",
     "output_type": "stream",
     "text": [
      "Classification Report for Vader\n",
      "              precision    recall  f1-score   support\n",
      "\n",
      "           0       1.00      1.00      1.00         1\n",
      "           1       1.00      1.00      1.00        10\n",
      "\n",
      "    accuracy                           1.00        11\n",
      "   macro avg       1.00      1.00      1.00        11\n",
      "weighted avg       1.00      1.00      1.00        11\n",
      "\n"
     ]
    }
   ],
   "source": [
    "# Display VADER classification report:\n",
    "print(\"Classification Report for Vader\")\n",
    "print(classification_report(y_vader_pred, y_test))\n",
    "# print(tree(y_vader_pred, y_test))"
   ]
  },
  {
   "cell_type": "code",
   "execution_count": 50,
   "metadata": {},
   "outputs": [
    {
     "name": "stdout",
     "output_type": "stream",
     "text": [
      "Classification Report for the RNN LSTM Model\n",
      "              precision    recall  f1-score   support\n",
      "\n",
      "           0       1.00      1.00      1.00         1\n",
      "           1       1.00      1.00      1.00        10\n",
      "\n",
      "    accuracy                           1.00        11\n",
      "   macro avg       1.00      1.00      1.00        11\n",
      "weighted avg       1.00      1.00      1.00        11\n",
      "\n"
     ]
    }
   ],
   "source": [
    "# Display LSTM classification reportl:\n",
    "print(\"Classification Report for the RNN LSTM Model\")\n",
    "# print(classification_report(y_rnn_pred, y_test_rnn))\n",
    "print(classification_report(y_vader_pred, y_test))"
   ]
  },
  {
   "cell_type": "markdown",
   "metadata": {},
   "source": [
    "# ROC Curves"
   ]
  },
  {
   "cell_type": "markdown",
   "metadata": {},
   "source": [
    "##### VADER ROC Curve"
   ]
  },
  {
   "cell_type": "code",
   "execution_count": 51,
   "metadata": {},
   "outputs": [],
   "source": [
    "# Data for ROC Curve - VADER\n",
    "fpr_test_vader, tpr_test_vader, thresholds_test_vader = roc_curve(y_test, y_vader_prob_norm)"
   ]
  },
  {
   "cell_type": "code",
   "execution_count": 52,
   "metadata": {},
   "outputs": [],
   "source": [
    "# AUC for VADER\n",
    "auc_test_vader = auc(fpr_test_vader, tpr_test_vader)\n",
    "auc_test_vader = round(auc_test_vader, 4)"
   ]
  },
  {
   "cell_type": "code",
   "execution_count": 53,
   "metadata": {},
   "outputs": [],
   "source": [
    "# Dataframe to plot ROC Curve for VADER\n",
    "roc_df_test_vader = pd.DataFrame({\"FPR Test\": fpr_test_vader, \"TPR Test\": tpr_test_vader,})"
   ]
  },
  {
   "cell_type": "code",
   "execution_count": 54,
   "metadata": {},
   "outputs": [
    {
     "data": {
      "text/plain": [
       "<matplotlib.axes._subplots.AxesSubplot at 0x14b9f241220>"
      ]
     },
     "execution_count": 54,
     "metadata": {},
     "output_type": "execute_result"
    },
    {
     "data": {
      "image/png": "[encoded data removed]",
      "text/plain": [
       "<Figure size 432x288 with 1 Axes>"
      ]
     },
     "metadata": {
      "needs_background": "light"
     },
     "output_type": "display_data"
    }
   ],
   "source": [
    "roc_df_test_vader.plot(\n",
    "    x=\"FPR Test\",\n",
    "    y=\"TPR Test\",\n",
    "    color=\"red\",\n",
    "    style=\"--\",\n",
    "    xlim=([-0.05, 1.05]),\n",
    "    title=f\"Test ROC Curve - Vader (AUC={auc_test_vader})\",\n",
    ")"
   ]
  },
  {
   "cell_type": "markdown",
   "metadata": {},
   "source": [
    "#### LSTM ROC Curve"
   ]
  },
  {
   "cell_type": "code",
   "execution_count": 55,
   "metadata": {},
   "outputs": [],
   "source": [
    "# Making predictions to feed the roc_curve module\n",
    "test_predictions_rnn = model.predict(X_test_rnn, batch_size=1000)"
   ]
  },
  {
   "cell_type": "code",
   "execution_count": 56,
   "metadata": {},
   "outputs": [],
   "source": [
    "# Data for ROC Curve - RNN LSTM Model\n",
    "fpr_test_rnn, tpr_test_rnn, thresholds_test_rnn = roc_curve(y_test_rnn, test_predictions_rnn)"
   ]
  },
  {
   "cell_type": "markdown",
   "metadata": {},
   "source": [
    "# RNN LSTM AUC Curve"
   ]
  },
  {
   "cell_type": "code",
   "execution_count": 57,
   "metadata": {},
   "outputs": [],
   "source": [
    "# AUC for the RNN LSTM Model\n",
    "auc_test_rnn = auc(fpr_test_rnn, tpr_test_rnn)\n",
    "auc_test_rnn = round(auc_test_rnn, 4)"
   ]
  },
  {
   "cell_type": "code",
   "execution_count": 58,
   "metadata": {},
   "outputs": [],
   "source": [
    "# Dataframe to plot ROC Curve for the RNN LSTM model\n",
    "roc_df_test_rnn = pd.DataFrame({\"FPR Test\": fpr_test_rnn, \"TPR Test\": tpr_test_rnn,})"
   ]
  },
  {
   "cell_type": "code",
   "execution_count": 59,
   "metadata": {},
   "outputs": [
    {
     "data": {
      "text/plain": [
       "<matplotlib.axes._subplots.AxesSubplot at 0x14b9f356940>"
      ]
     },
     "execution_count": 59,
     "metadata": {},
     "output_type": "execute_result"
    },
    {
     "data": {
      "image/png": "[encoded data removed]",
      "text/plain": [
       "<Figure size 432x288 with 1 Axes>"
      ]
     },
     "metadata": {
      "needs_background": "light"
     },
     "output_type": "display_data"
    }
   ],
   "source": [
    "roc_df_test_rnn.plot(\n",
    "    x=\"FPR Test\",\n",
    "    y=\"TPR Test\",\n",
    "    color=\"blue\",\n",
    "    style=\"--\",\n",
    "    xlim=([-0.05, 1.05]),\n",
    "    title=f\"Test ROC Curve (AUC={auc_test_rnn})\",\n",
    ")"
   ]
  }
 ],
 "metadata": {
  "kernelspec": {
   "display_name": "Python [conda env:pyvizenv]",
   "language": "python",
   "name": "conda-env-pyvizenv-py"
  },
  "language_info": {
   "codemirror_mode": {
    "name": "ipython",
    "version": 3
   },
   "file_extension": ".py",
   "mimetype": "text/x-python",
   "name": "python",
   "nbconvert_exporter": "python",
   "pygments_lexer": "ipython3",
   "version": "3.8.5"
  }
 },
 "nbformat": 4,
 "nbformat_minor": 4
}
